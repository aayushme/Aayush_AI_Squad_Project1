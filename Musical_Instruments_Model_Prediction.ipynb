{
  "nbformat": 4,
  "nbformat_minor": 0,
  "metadata": {
    "colab": {
      "name": "Musical_Instruments_Model_Prediction.ipynb",
      "provenance": [],
      "authorship_tag": "ABX9TyPSeCRDCjYnH8K1k9UnTJW9",
      "include_colab_link": true
    },
    "kernelspec": {
      "name": "python3",
      "display_name": "Python 3"
    }
  },
  "cells": [
    {
      "cell_type": "markdown",
      "metadata": {
        "id": "view-in-github",
        "colab_type": "text"
      },
      "source": [
        "<a href=\"https://colab.research.google.com/github/aayushme/Aayush_AI_Squad_Project1/blob/master/Musical_Instruments_Model_Prediction.ipynb\" target=\"_parent\"><img src=\"https://colab.research.google.com/assets/colab-badge.svg\" alt=\"Open In Colab\"/></a>"
      ]
    },
    {
      "cell_type": "markdown",
      "metadata": {
        "id": "2S8yAssYr0Pi",
        "colab_type": "text"
      },
      "source": [
        "#**Predition Of Trained Model**"
      ]
    },
    {
      "cell_type": "markdown",
      "metadata": {
        "id": "7ikwa8NypCB-",
        "colab_type": "text"
      },
      "source": [
        "**Importing Libraries**"
      ]
    },
    {
      "cell_type": "code",
      "metadata": {
        "id": "wVgVXBExMPmh",
        "colab_type": "code",
        "colab": {
          "base_uri": "https://localhost:8080/",
          "height": 50
        },
        "outputId": "7e1f6bab-6092-4c39-e97b-3edc1508738a"
      },
      "source": [
        "!pip install opencv-python"
      ],
      "execution_count": 3,
      "outputs": [
        {
          "output_type": "stream",
          "text": [
            "Requirement already satisfied: opencv-python in /usr/local/lib/python3.6/dist-packages (4.1.2.30)\n",
            "Requirement already satisfied: numpy>=1.11.3 in /usr/local/lib/python3.6/dist-packages (from opencv-python) (1.18.5)\n"
          ],
          "name": "stdout"
        }
      ]
    },
    {
      "cell_type": "code",
      "metadata": {
        "id": "ANWDFHANo4ra",
        "colab_type": "code",
        "colab": {}
      },
      "source": [
        "%reload_ext autoreload\n",
        "%autoreload 2\n",
        "%matplotlib inline\n",
        "from fastai.vision import *\n",
        "from fastai.metrics import error_rate\n",
        "import warnings\n",
        "warnings.filterwarnings(\"ignore\", category=FutureWarning)\n",
        "warnings.filterwarnings(\"ignore\", category=UserWarning)\n",
        "img_counter=[]\n",
        "img_counter.append(10)"
      ],
      "execution_count": 14,
      "outputs": []
    },
    {
      "cell_type": "markdown",
      "metadata": {
        "id": "ktTvHX6CUQ9n",
        "colab_type": "text"
      },
      "source": [
        "**Verify Video**"
      ]
    },
    {
      "cell_type": "code",
      "metadata": {
        "id": "cEe-Vkv8UApu",
        "colab_type": "code",
        "colab": {
          "base_uri": "https://localhost:8080/",
          "height": 302
        },
        "outputId": "162ee7e2-5608-4bfd-bcf3-074e37c6e00c"
      },
      "source": [
        "url=\"https://drive.google.com/uc?id=1ZJ4qLasV0rEPcIVbGLPUjtR9xKAjacaj\"\n",
        "from IPython.display import HTML\n",
        "HTML(f\"\"\"<video src={url} width=500 controls/>\"\"\")"
      ],
      "execution_count": 13,
      "outputs": [
        {
          "output_type": "execute_result",
          "data": {
            "text/html": [
              "<video src=https://drive.google.com/uc?id=1ZJ4qLasV0rEPcIVbGLPUjtR9xKAjacaj width=500 controls/>"
            ],
            "text/plain": [
              "<IPython.core.display.HTML object>"
            ]
          },
          "metadata": {
            "tags": []
          },
          "execution_count": 13
        }
      ]
    },
    {
      "cell_type": "markdown",
      "metadata": {
        "id": "JS1eCB4dAJxu",
        "colab_type": "text"
      },
      "source": [
        "**Making directory to save `export.pkl` and `Stage-1.pth`**"
      ]
    },
    {
      "cell_type": "code",
      "metadata": {
        "id": "U3v1e2zJAVnV",
        "colab_type": "code",
        "colab": {}
      },
      "source": [
        "import os\n",
        "os.makedirs(\"/content/trained_data\", exist_ok=True)\n",
        "my_dir = \"/content/trained_data\""
      ],
      "execution_count": 31,
      "outputs": []
    },
    {
      "cell_type": "markdown",
      "metadata": {
        "id": "W2e_L7yCB82O",
        "colab_type": "text"
      },
      "source": [
        "**Download `export.pkl` from https://drive.google.com/uc?id=1WYS2eKZOIN-XV1BEuC36LARsN347vaMA**"
      ]
    },
    {
      "cell_type": "code",
      "metadata": {
        "id": "w3hP_1qEAmYR",
        "colab_type": "code",
        "colab": {}
      },
      "source": [
        "%cd \"/content/trained_data\"\n",
        "!wget -O\"export.pkl\" \"https://drive.google.com/uc?id=1WYS2eKZOIN-XV1BEuC36LARsN347vaMA\""
      ],
      "execution_count": null,
      "outputs": []
    },
    {
      "cell_type": "markdown",
      "metadata": {
        "id": "E15MfHKkCI2R",
        "colab_type": "text"
      },
      "source": [
        "**Download `Stage-1.pth` from https://drive.google.com/uc?id=1BJhe9-DNv-SHG7THVDU3UBLxs-xRopg6**"
      ]
    },
    {
      "cell_type": "code",
      "metadata": {
        "id": "0xiZECQKBpbL",
        "colab_type": "code",
        "colab": {}
      },
      "source": [
        "%cd \"/content/trained_data\"\n",
        "!wget -O\"Stage-1.pth\" \"https://drive.google.com/uc?id=1BJhe9-DNv-SHG7THVDU3UBLxs-xRopg6\""
      ],
      "execution_count": null,
      "outputs": []
    },
    {
      "cell_type": "markdown",
      "metadata": {
        "id": "scK7fRrMLFbf",
        "colab_type": "text"
      },
      "source": [
        "**Using OpenCV library Creating Frames and saving in data folder**"
      ]
    },
    {
      "cell_type": "code",
      "metadata": {
        "id": "25-sJe-oXYKf",
        "colab_type": "code",
        "colab": {}
      },
      "source": [
        "import cv2 \n",
        "cam = cv2.VideoCapture(url) "
      ],
      "execution_count": 18,
      "outputs": []
    },
    {
      "cell_type": "markdown",
      "metadata": {
        "id": "bUk3ZmMbXSPm",
        "colab_type": "text"
      },
      "source": [
        "**Error Handling**"
      ]
    },
    {
      "cell_type": "code",
      "metadata": {
        "id": "WIXxRG5WXQw4",
        "colab_type": "code",
        "colab": {}
      },
      "source": [
        "try: \n",
        "       \n",
        "    if not os.path.exists('pred_data'): \n",
        "        os.makedirs('pred_data') \n",
        "  \n",
        "except OSError: \n",
        "    print ('Error: Creating directory of data') "
      ],
      "execution_count": 27,
      "outputs": []
    },
    {
      "cell_type": "code",
      "metadata": {
        "id": "2AYNuk0fNYfx",
        "colab_type": "code",
        "colab": {}
      },
      "source": [
        "currentframe = 0\n",
        "  \n",
        "while(True): \n",
        "      \n",
        "     \n",
        "    ret,frame = cam.read() \n",
        "  \n",
        "    if ret: \n",
        "        \n",
        "        name = './pred_data/frame' + str(currentframe) + '.jpg'\n",
        "        print ('Creating...' + name)  \n",
        "        cv2.imwrite(name, frame) \n",
        "  \n",
        "        \n",
        "        currentframe += 1\n",
        "    else: \n",
        "        break\n",
        "\n",
        "cam.release() \n",
        "cv2.destroyAllWindows() "
      ],
      "execution_count": 28,
      "outputs": []
    },
    {
      "cell_type": "markdown",
      "metadata": {
        "id": "Bd3Wn_MWsLos",
        "colab_type": "text"
      },
      "source": [
        "**Call Predictor**"
      ]
    },
    {
      "cell_type": "code",
      "metadata": {
        "id": "BUAr8AdUKhw5",
        "colab_type": "code",
        "colab": {}
      },
      "source": [
        "predictor = load_learner(my_dir)"
      ],
      "execution_count": 35,
      "outputs": []
    },
    {
      "cell_type": "markdown",
      "metadata": {
        "id": "BiKDYZM6U-l7",
        "colab_type": "text"
      },
      "source": [
        "**Creating Predictor Function**"
      ]
    },
    {
      "cell_type": "code",
      "metadata": {
        "id": "B2G4LJSKTUDd",
        "colab_type": "code",
        "colab": {}
      },
      "source": [
        "def my_predictor(im):\n",
        "  test_img =open_image(im)\n",
        "  pred_class,pred_idx,outputs=predictor.predict(test_img)\n",
        "  return pred_class"
      ],
      "execution_count": 36,
      "outputs": []
    },
    {
      "cell_type": "code",
      "metadata": {
        "id": "i_VdYDTXYFN4",
        "colab_type": "code",
        "colab": {}
      },
      "source": [
        "all_test_images=os.listdir(\"/content/pred_data\")\n",
        "all_test_images"
      ],
      "execution_count": null,
      "outputs": []
    },
    {
      "cell_type": "markdown",
      "metadata": {
        "id": "lKZHrfEzYRfJ",
        "colab_type": "text"
      },
      "source": [
        "**Prediction For Single Image**"
      ]
    },
    {
      "cell_type": "code",
      "metadata": {
        "id": "EnXJIjkbVPIs",
        "colab_type": "code",
        "colab": {
          "base_uri": "https://localhost:8080/",
          "height": 142
        },
        "outputId": "21b1de60-cddd-4941-d611-dd7dc28f1890"
      },
      "source": [
        "idx=0\n",
        "print(my_predictor(\"/content/pred_data/\"+all_test_images[idx]))\n",
        "img = open_image(\"/content/pred_data/\"+all_test_images[idx])\n",
        "img.show()"
      ],
      "execution_count": 40,
      "outputs": [
        {
          "output_type": "stream",
          "text": [
            "piano\n"
          ],
          "name": "stdout"
        },
        {
          "output_type": "display_data",
          "data": {
            "image/png": "[encoded data removed]",
            "text/plain": [
              "<Figure size 216x216 with 1 Axes>"
            ]
          },
          "metadata": {
            "tags": [],
            "needs_background": "light"
          }
        }
      ]
    },
    {
      "cell_type": "markdown",
      "metadata": {
        "id": "sJ1cRVBe7Wcf",
        "colab_type": "text"
      },
      "source": [
        "**Plot Confusion Matrix**"
      ]
    },
    {
      "cell_type": "code",
      "metadata": {
        "id": "ngA2r-fe7VUY",
        "colab_type": "code",
        "colab": {}
      },
      "source": [
        "interp.plot_confusion_matrix(figsize=(3,3), dpi=60)"
      ],
      "execution_count": null,
      "outputs": []
    },
    {
      "cell_type": "markdown",
      "metadata": {
        "id": "sraPIy2eYf7D",
        "colab_type": "text"
      },
      "source": [
        "#**Making Video**"
      ]
    },
    {
      "cell_type": "code",
      "metadata": {
        "id": "4L-E_wd2YiT3",
        "colab_type": "code",
        "colab": {}
      },
      "source": [
        "test_files=os.listdir(\"pred_data\")\n",
        "os.makedirs(\"test_result\",exist_ok=True)\n",
        "i=0\n",
        "for test_file in test_files:\n",
        "  img=cv2.imread(\"pred_data/\"+test_file)\n",
        "  cv2.imwrite(\"temp.jpg\",img)\n",
        "  ans_text=my_predictor(\"temp.jpg\")\n",
        "  font = cv2.FONT_HERSHEY_SIMPLEX \n",
        "  i+=1\n",
        "  org = (0, 50) \n",
        "  fontScale = 2\n",
        "  color = (255, 0, 0) \n",
        "  thickness = 4\n",
        "  img = cv2.putText(img, str(ans_text), org, font,fontScale, color, thickness, cv2.LINE_AA) \n",
        "  cv2.imwrite(\"test_result/\"+str(i)+\".jpg\", img)"
      ],
      "execution_count": null,
      "outputs": []
    },
    {
      "cell_type": "code",
      "metadata": {
        "id": "AggqzbcXYosF",
        "colab_type": "code",
        "colab": {}
      },
      "source": [
        "%cd \"test_result\"\n",
        "!ffmpeg -framerate 1 -pattern_type glob -i '*.jpg' \\-c:v libx264 -r 1 -pix_fmt yuv420p ../my_final_output.mp4\n",
        "%cd .."
      ],
      "execution_count": null,
      "outputs": []
    },
    {
      "cell_type": "markdown",
      "metadata": {
        "id": "ipcQ_NqLYy9T",
        "colab_type": "text"
      },
      "source": [
        "**Making Url By Kora Drive**"
      ]
    },
    {
      "cell_type": "code",
      "metadata": {
        "id": "v5_CzMWrYrnx",
        "colab_type": "code",
        "colab": {}
      },
      "source": [
        "!pip install -U kora\n",
        "from kora.drive import upload_public\n",
        "url_is = upload_public('my_final_output.mp4')"
      ],
      "execution_count": null,
      "outputs": []
    },
    {
      "cell_type": "markdown",
      "metadata": {
        "id": "gbQpgAkOY5Wn",
        "colab_type": "text"
      },
      "source": [
        "**Display Video**"
      ]
    },
    {
      "cell_type": "code",
      "metadata": {
        "id": "o9ixlMeFYxtN",
        "colab_type": "code",
        "colab": {}
      },
      "source": [
        "from IPython.display import HTML\n",
        "HTML(f\"\"\"<video src={url_is} width=500 controls/>\"\"\")"
      ],
      "execution_count": null,
      "outputs": []
    }
  ]
}