{
  "nbformat": 4,
  "nbformat_minor": 0,
  "metadata": {
    "colab": {
      "name": "Musical_Instrumets_Model_Training",
      "provenance": [],
      "authorship_tag": "ABX9TyMmWzofIMo5DXTROkSHhlB7",
      "include_colab_link": true
    },
    "kernelspec": {
      "name": "python3",
      "display_name": "Python 3"
    }
  },
  "cells": [
    {
      "cell_type": "markdown",
      "metadata": {
        "id": "view-in-github",
        "colab_type": "text"
      },
      "source": [
        "<a href=\"https://colab.research.google.com/github/aayushme/Aayush_AI_Squad_Project1/blob/master/Musical_Instrumets_Model_Training.ipynb\" target=\"_parent\"><img src=\"https://colab.research.google.com/assets/colab-badge.svg\" alt=\"Open In Colab\"/></a>"
      ]
    },
    {
      "cell_type": "markdown",
      "metadata": {
        "id": "xZkZ2ySProT5",
        "colab_type": "text"
      },
      "source": [
        "#***Kaggle Database***"
      ]
    },
    {
      "cell_type": "markdown",
      "metadata": {
        "id": "qdQFOjTHtml6",
        "colab_type": "text"
      },
      "source": [
        "**Calling Required Libraries**"
      ]
    },
    {
      "cell_type": "code",
      "metadata": {
        "id": "_EsRAxB8uEZs",
        "colab_type": "code",
        "colab": {}
      },
      "source": [
        "import os\n",
        "import pandas as pd"
      ],
      "execution_count": null,
      "outputs": []
    },
    {
      "cell_type": "markdown",
      "metadata": {
        "id": "KxuqhEWsusDo",
        "colab_type": "text"
      },
      "source": [
        "**Importing Kaggle.json**"
      ]
    },
    {
      "cell_type": "code",
      "metadata": {
        "id": "5bo6sB89uo6v",
        "colab_type": "code",
        "colab": {
          "resources": {
            "http://localhost:8080/nbextensions/google.colab/files.js": {
              "data": "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",
              "ok": true,
              "headers": [
                [
                  "content-type",
                  "application/javascript"
                ]
              ],
              "status": 200,
              "status_text": ""
            }
          },
          "base_uri": "https://localhost:8080/",
          "height": 73
        },
        "outputId": "54220fff-c586-44af-f6e3-34db92b5089b"
      },
      "source": [
        "from google.colab import files\n",
        "my_file=files.upload()"
      ],
      "execution_count": null,
      "outputs": [
        {
          "output_type": "display_data",
          "data": {
            "text/html": [
              "\n",
              "     <input type=\"file\" id=\"files-85dde868-ecbf-4e0f-9896-44542e898447\" name=\"files[]\" multiple disabled\n",
              "        style=\"border:none\" />\n",
              "     <output id=\"result-85dde868-ecbf-4e0f-9896-44542e898447\">\n",
              "      Upload widget is only available when the cell has been executed in the\n",
              "      current browser session. Please rerun this cell to enable.\n",
              "      </output>\n",
              "      <script src=\"/nbextensions/google.colab/files.js\"></script> "
            ],
            "text/plain": [
              "<IPython.core.display.HTML object>"
            ]
          },
          "metadata": {
            "tags": []
          }
        },
        {
          "output_type": "stream",
          "text": [
            "Saving kaggle.json to kaggle.json\n"
          ],
          "name": "stdout"
        }
      ]
    },
    {
      "cell_type": "markdown",
      "metadata": {
        "id": "4f0yqC0dvZTd",
        "colab_type": "text"
      },
      "source": [
        "**Kaggle Cred**\n"
      ]
    },
    {
      "cell_type": "code",
      "metadata": {
        "id": "gx0-lgMPvt3N",
        "colab_type": "code",
        "colab": {}
      },
      "source": [
        "cred = pd.read_json(\"kaggle.json\",lines=True)\n",
        "os.environ['KAGGLE_USERNAME'] = cred.iloc[0][0]\n",
        "os.environ['KAGGLE_KEY'] = cred.iloc[0][1]"
      ],
      "execution_count": null,
      "outputs": []
    },
    {
      "cell_type": "markdown",
      "metadata": {
        "id": "KEEovysgwCra",
        "colab_type": "text"
      },
      "source": [
        "**Downloading Database**"
      ]
    },
    {
      "cell_type": "code",
      "metadata": {
        "id": "FccreXcqwD4-",
        "colab_type": "code",
        "colab": {
          "base_uri": "https://localhost:8080/",
          "height": 67
        },
        "outputId": "ccc34b9a-7898-40b1-c920-e493bf21df87"
      },
      "source": [
        "!kaggle datasets download -d aayushme/music-instruments-classification"
      ],
      "execution_count": null,
      "outputs": [
        {
          "output_type": "stream",
          "text": [
            "Downloading music-instruments-classification.zip to /content\n",
            "\r  0% 0.00/21.2M [00:00<?, ?B/s]\r 24% 5.00M/21.2M [00:00<00:00, 22.4MB/s]\r 42% 9.00M/21.2M [00:00<00:00, 24.3MB/s]\n",
            "\r100% 21.2M/21.2M [00:00<00:00, 47.8MB/s]\n"
          ],
          "name": "stdout"
        }
      ]
    },
    {
      "cell_type": "code",
      "metadata": {
        "id": "CdeCpcPxxZZy",
        "colab_type": "code",
        "colab": {}
      },
      "source": [
        "!unzip \"*.zip\""
      ],
      "execution_count": null,
      "outputs": []
    },
    {
      "cell_type": "code",
      "metadata": {
        "id": "3piCpR7zxc2B",
        "colab_type": "code",
        "colab": {
          "base_uri": "https://localhost:8080/",
          "height": 185
        },
        "outputId": "3c2000a8-732b-4786-e72a-84f0ec98204c"
      },
      "source": [
        "os.listdir(\"instruments_data\")"
      ],
      "execution_count": null,
      "outputs": [
        {
          "output_type": "execute_result",
          "data": {
            "text/plain": [
              "['acoustic_guitar',\n",
              " 'flute',\n",
              " 'bass_guitar',\n",
              " 'piano',\n",
              " 'violen',\n",
              " 'harp',\n",
              " 'saxophone',\n",
              " 'drums',\n",
              " 'tabla',\n",
              " 'gramophone']"
            ]
          },
          "metadata": {
            "tags": []
          },
          "execution_count": 16
        }
      ]
    },
    {
      "cell_type": "markdown",
      "metadata": {
        "id": "uBSSLlDrA7OZ",
        "colab_type": "text"
      },
      "source": [
        "#**Data Augmentation**"
      ]
    },
    {
      "cell_type": "markdown",
      "metadata": {
        "id": "dF_WXLwGXr5S",
        "colab_type": "text"
      },
      "source": [
        "**Importing Libraries**"
      ]
    },
    {
      "cell_type": "code",
      "metadata": {
        "id": "lwtCDmrBBHfB",
        "colab_type": "code",
        "colab": {}
      },
      "source": [
        "%reload_ext autoreload\n",
        "%autoreload 2\n",
        "%matplotlib inline\n",
        "from fastai.vision import *\n",
        "from fastai.metrics import error_rate\n",
        "import warnings\n",
        "warnings.filterwarnings(\"ignore\", category=FutureWarning)\n",
        "warnings.filterwarnings(\"ignore\", category=UserWarning)\n",
        "img_counter=[]\n",
        "img_counter.append(10)"
      ],
      "execution_count": null,
      "outputs": []
    },
    {
      "cell_type": "markdown",
      "metadata": {
        "id": "Fw4IlOZPYOn1",
        "colab_type": "text"
      },
      "source": [
        "**Callling Transform Function and creating data class**"
      ]
    },
    {
      "cell_type": "code",
      "metadata": {
        "id": "lGUNPCbCQ7fM",
        "colab_type": "code",
        "colab": {}
      },
      "source": [
        "path=\"\"\n",
        "tfms = get_transforms(do_flip=True)\n",
        "data = ImageDataBunch.from_folder( Path(\"instruments_data\"), valid_pct=0.2, bs=64, size=224, ds_tfms=get_transforms())\n",
        "data.classes"
      ],
      "execution_count": null,
      "outputs": []
    },
    {
      "cell_type": "code",
      "metadata": {
        "id": "w7OVTX3djUwB",
        "colab_type": "code",
        "colab": {
          "base_uri": "https://localhost:8080/",
          "height": 121
        },
        "outputId": "2a1a9428-d889-4fde-9454-8b534dbd053a"
      },
      "source": [
        "help(get_transforms)"
      ],
      "execution_count": null,
      "outputs": [
        {
          "output_type": "stream",
          "text": [
            "Help on function get_transforms in module fastai.vision.transform:\n",
            "\n",
            "get_transforms(do_flip:bool=True, flip_vert:bool=False, max_rotate:float=10.0, max_zoom:float=1.1, max_lighting:float=0.2, max_warp:float=0.2, p_affine:float=0.75, p_lighting:float=0.75, xtra_tfms:Union[Collection[fastai.vision.image.Transform], NoneType]=None) -> Collection[fastai.vision.image.Transform]\n",
            "    Utility func to easily create a list of flip, rotate, `zoom`, warp, lighting transforms.\n",
            "\n"
          ],
          "name": "stdout"
        }
      ]
    },
    {
      "cell_type": "markdown",
      "metadata": {
        "id": "syz2-20Vvutl",
        "colab_type": "text"
      },
      "source": [
        "**Code to make and save the transforms**"
      ]
    },
    {
      "cell_type": "code",
      "metadata": {
        "id": "4gRAeFpNvo7Z",
        "colab_type": "code",
        "colab": {}
      },
      "source": [
        "os.makedirs(\"image_data\",exist_ok=True)\n",
        "def plots_f(rows, cols, width, height, **kwargs):\n",
        "  total_plots=plt.subplots(rows,cols,figsize=(width,height))[1].flatten()\n",
        "  for i,ax in enumerate(total_plots):\n",
        "    pic.apply_tfms(tfms[0], **kwargs).show(ax=ax)\n",
        "    plt.savefig(\"image_data/\"+str(img_counter[0])+\".jpg\")\n",
        "    img_counter[0]+=1"
      ],
      "execution_count": null,
      "outputs": []
    },
    {
      "cell_type": "markdown",
      "metadata": {
        "id": "FI6tJJ-DkHkf",
        "colab_type": "text"
      },
      "source": [
        "**Zoom Crop all the images of the dataset**\n",
        "\n",
        "> We are creating four images form each image of dataset and saving them\n",
        "\n",
        "> We are using zoom cropping property\n"
      ]
    },
    {
      "cell_type": "code",
      "metadata": {
        "id": "TXFg4h3ajlj_",
        "colab_type": "code",
        "colab": {
          "base_uri": "https://localhost:8080/",
          "height": 205
        },
        "outputId": "4348dfc6-b1f2-4787-b889-ebca8df216c4"
      },
      "source": [
        "os.makedirs(\"image_data\",exist_ok=True)\n",
        "path = '/content/instruments_data'\n",
        "for i in data.classes:\n",
        "  sub = path + '/' + i\n",
        "  files = os.listdir(sub)\n",
        "  print(files)\n",
        "       "
      ],
      "execution_count": null,
      "outputs": [
        {
          "output_type": "stream",
          "text": [
            "['acoustic_guitar (128).jpg', 'acoustic_guitar (315).jpg', 'acoustic_guitar (101).jpg', 'acoustic_guitar (142).jpg', 'acoustic_guitar (233).jpg', 'acoustic_guitar (78).jpg', 'acoustic_guitar (129).jpg', 'acoustic_guitar (3).jpg', 'acoustic_guitar (305).jpg', 'acoustic_guitar (15).jpg', 'acoustic_guitar (298).jpg', 'acoustic_guitar (191).jpg', 'acoustic_guitar (189).jpg', 'acoustic_guitar (167).jpg', 'acoustic_guitar (351).jpg', 'acoustic_guitar (168).jpg', 'acoustic_guitar (230).jpg', 'acoustic_guitar (80).jpg', 'acoustic_guitar (303).jpg', 'acoustic_guitar (45).jpg', 'acoustic_guitar (326).jpg', 'acoustic_guitar (360).jpg', 'acoustic_guitar (268).jpg', 'acoustic_guitar (88).jpg', 'acoustic_guitar (350).jpg', 'acoustic_guitar (324).jpg', 'acoustic_guitar (362).jpg', 'acoustic_guitar (277).jpg', 'acoustic_guitar (193).jpg', 'acoustic_guitar (89).jpg', 'acoustic_guitar (153).jpg', 'acoustic_guitar (225).jpg', 'acoustic_guitar (259).jpg', 'acoustic_guitar (77).jpg', 'acoustic_guitar (373).jpg', 'acoustic_guitar (14).jpg', 'acoustic_guitar (348).jpg', 'acoustic_guitar (194).jpg', 'acoustic_guitar (375).jpg', 'acoustic_guitar (138).jpg', 'acoustic_guitar (18).jpg', 'acoustic_guitar (82).jpg', 'acoustic_guitar (255).jpg', 'acoustic_guitar (67).jpg', 'acoustic_guitar (273).jpg', 'acoustic_guitar (162).jpg', 'acoustic_guitar (30).jpg', 'acoustic_guitar (33).jpg', 'acoustic_guitar (76).jpg', 'acoustic_guitar (227).jpg', 'acoustic_guitar (102).jpg', 'acoustic_guitar (174).jpg', 'acoustic_guitar (226).jpg', 'acoustic_guitar (13).jpg', 'acoustic_guitar (262).jpg', 'acoustic_guitar (307).jpg', 'acoustic_guitar (113).jpg', 'acoustic_guitar (331).jpg', 'acoustic_guitar (341).jpg', 'acoustic_guitar (339).jpg', 'acoustic_guitar (229).jpg', 'acoustic_guitar (347).jpg', 'acoustic_guitar (139).jpg', 'acoustic_guitar (371).jpg', 'acoustic_guitar (353).jpg', 'acoustic_guitar (64).jpg', 'acoustic_guitar (251).jpg', 'acoustic_guitar (181).jpg', 'acoustic_guitar (9).jpg', 'acoustic_guitar (119).jpg', 'acoustic_guitar (197).jpg', 'acoustic_guitar (51).jpg', 'acoustic_guitar (278).jpg', 'acoustic_guitar (98).jpg', 'acoustic_guitar (217).jpg', 'acoustic_guitar (258).jpg', 'acoustic_guitar (105).jpg', 'acoustic_guitar (210).jpg', 'acoustic_guitar (311).jpg', 'acoustic_guitar (70).jpg', 'acoustic_guitar (50).jpg', 'acoustic_guitar (206).jpg', 'acoustic_guitar (244).jpg', 'acoustic_guitar (175).jpg', 'acoustic_guitar (377).jpg', 'acoustic_guitar (245).jpg', 'acoustic_guitar (173).jpg', 'acoustic_guitar (131).jpg', 'acoustic_guitar (356).jpg', 'acoustic_guitar (61).jpg', 'acoustic_guitar (157).jpg', 'acoustic_guitar (308).jpg', 'acoustic_guitar (204).jpg', 'acoustic_guitar (117).jpg', 'acoustic_guitar (31).jpg', 'acoustic_guitar (186).jpg', 'acoustic_guitar (2).png', 'acoustic_guitar (1).jpg', 'acoustic_guitar (176).jpg', 'acoustic_guitar (104).jpg', 'acoustic_guitar (1).png', 'acoustic_guitar (163).jpg', 'acoustic_guitar (364).jpg', 'acoustic_guitar (296).jpg', 'acoustic_guitar (223).jpg', 'acoustic_guitar (144).jpg', 'acoustic_guitar (309).jpg', 'acoustic_guitar (35).jpg', 'acoustic_guitar (199).jpg', 'acoustic_guitar (115).jpg', 'acoustic_guitar (2).jpg', 'acoustic_guitar (16).jpg', 'acoustic_guitar (342).jpg', 'acoustic_guitar (287).jpg', 'acoustic_guitar (125).jpg', 'acoustic_guitar (306).jpg', 'acoustic_guitar (368).jpg', 'acoustic_guitar (220).jpg', 'acoustic_guitar (103).jpg', 'acoustic_guitar (335).jpg', 'acoustic_guitar (54).jpg', 'acoustic_guitar (289).jpg', 'acoustic_guitar (330).jpg', 'acoustic_guitar (109).jpg', 'acoustic_guitar (6).jpg', 'acoustic_guitar (26).jpg', 'acoustic_guitar (310).jpg', 'acoustic_guitar (27).jpg', 'acoustic_guitar (290).jpg', 'acoustic_guitar (41).jpg', 'acoustic_guitar (361).jpg', 'acoustic_guitar (123).jpg', 'acoustic_guitar (37).jpg', 'acoustic_guitar (72).jpg', 'acoustic_guitar (235).jpg', 'acoustic_guitar (249).jpg', 'acoustic_guitar (365).jpg', 'acoustic_guitar (23).jpg', 'acoustic_guitar (49).jpg', 'acoustic_guitar (254).jpg', 'acoustic_guitar (83).jpg', 'acoustic_guitar (357).jpg', 'acoustic_guitar (106).jpg', 'acoustic_guitar (202).jpg', 'acoustic_guitar (34).jpg', 'acoustic_guitar (56).jpg', 'acoustic_guitar (62).jpg', 'acoustic_guitar (66).jpg', 'acoustic_guitar (165).jpg', 'acoustic_guitar (317).jpg', 'acoustic_guitar (216).jpg', 'acoustic_guitar (200).jpg', 'acoustic_guitar (179).jpg', 'acoustic_guitar (60).jpg', 'acoustic_guitar (124).jpg', 'acoustic_guitar (22).jpg', 'acoustic_guitar (134).jpg', 'acoustic_guitar (333).jpg', 'acoustic_guitar (116).jpg', 'acoustic_guitar (32).jpg', 'acoustic_guitar (370).jpg', 'acoustic_guitar (183).jpg', 'acoustic_guitar (110).jpg', 'acoustic_guitar (274).jpg', 'acoustic_guitar (141).jpg', 'acoustic_guitar (42).jpg', 'acoustic_guitar (352).jpg', 'acoustic_guitar (59).jpg', 'acoustic_guitar (221).jpg', 'acoustic_guitar (313).jpg', 'acoustic_guitar (280).jpg', 'acoustic_guitar (378).jpg', 'acoustic_guitar (10).jpg', 'acoustic_guitar (154).jpg', 'acoustic_guitar (320).jpg', 'acoustic_guitar (314).jpg', 'acoustic_guitar (295).jpg', 'acoustic_guitar (185).jpg', 'acoustic_guitar (47).jpg', 'acoustic_guitar (344).jpg', 'acoustic_guitar (327).jpg', 'acoustic_guitar (84).jpg', 'acoustic_guitar (111).jpg', 'acoustic_guitar (29).jpg', 'acoustic_guitar (328).jpg', 'acoustic_guitar (234).jpg', 'acoustic_guitar (323).jpg', 'acoustic_guitar (137).jpg', 'acoustic_guitar (136).jpg', 'acoustic_guitar (63).jpg', 'acoustic_guitar (267).jpg', 'acoustic_guitar (150).jpg', 'acoustic_guitar (211).jpg', 'acoustic_guitar (38).jpg', 'acoustic_guitar (248).jpg', 'acoustic_guitar (97).jpg', 'acoustic_guitar (345).jpg', 'acoustic_guitar (182).jpg', 'acoustic_guitar (121).jpg', 'acoustic_guitar (48).jpg', 'acoustic_guitar (152).jpg', 'acoustic_guitar (319).jpg', 'acoustic_guitar (28).jpg', 'acoustic_guitar (208).jpg', 'acoustic_guitar (270).jpg', 'acoustic_guitar (180).jpg', 'acoustic_guitar (57).jpg', 'acoustic_guitar (239).jpg', 'acoustic_guitar (334).jpg', 'acoustic_guitar (355).jpg', 'acoustic_guitar (146).jpg', 'acoustic_guitar (301).jpg', 'acoustic_guitar (242).jpg', 'acoustic_guitar (196).jpg', 'acoustic_guitar (171).jpg', 'acoustic_guitar (228).jpg', 'acoustic_guitar (285).jpg', 'acoustic_guitar (4).png', 'acoustic_guitar (346).jpg', 'acoustic_guitar (147).jpg', 'acoustic_guitar (133).jpg', 'acoustic_guitar (260).jpg', 'acoustic_guitar (4).jpg', 'acoustic_guitar (264).jpg', 'acoustic_guitar (238).jpg', 'acoustic_guitar (332).jpg', 'acoustic_guitar (95).jpg', 'acoustic_guitar (247).jpg', 'acoustic_guitar (81).jpg', 'acoustic_guitar (130).jpg', 'acoustic_guitar (266).jpg', 'acoustic_guitar (19).jpg', 'acoustic_guitar (367).jpg', 'acoustic_guitar (349).jpg', 'acoustic_guitar (250).jpg', 'acoustic_guitar (21).jpg', 'acoustic_guitar (169).jpg', 'acoustic_guitar (36).jpg', 'acoustic_guitar (321).jpg', 'acoustic_guitar (96).jpg', 'acoustic_guitar (58).jpg', 'acoustic_guitar (93).jpg', 'acoustic_guitar (340).jpg', 'acoustic_guitar (5).jpg', 'acoustic_guitar (94).jpg', 'acoustic_guitar (3).png', 'acoustic_guitar (256).jpg', 'acoustic_guitar (122).jpg', 'acoustic_guitar (261).jpg', 'acoustic_guitar (257).jpg', 'acoustic_guitar (304).jpg', 'acoustic_guitar (55).jpg', 'acoustic_guitar (338).jpg', 'acoustic_guitar (170).jpg', 'acoustic_guitar (140).jpg', 'acoustic_guitar (288).jpg', 'acoustic_guitar (283).jpg', 'acoustic_guitar (100).jpg', 'acoustic_guitar (178).jpg', 'acoustic_guitar (195).jpg', 'acoustic_guitar (205).jpg', 'acoustic_guitar (271).jpg', 'acoustic_guitar (159).jpg', 'acoustic_guitar (292).jpg', 'acoustic_guitar (65).jpg', 'acoustic_guitar (282).jpg', 'acoustic_guitar (294).jpg', 'acoustic_guitar (114).jpg', 'acoustic_guitar (145).jpg', 'acoustic_guitar (224).jpg', 'acoustic_guitar (7).jpg', 'acoustic_guitar (86).jpg', 'acoustic_guitar (354).jpg', 'acoustic_guitar (236).jpg', 'acoustic_guitar (91).jpg', 'acoustic_guitar (25).jpg', 'acoustic_guitar (74).jpg', 'acoustic_guitar (281).jpg', 'acoustic_guitar (363).jpg', 'acoustic_guitar (143).jpg', 'acoustic_guitar (209).jpg', 'acoustic_guitar (126).jpg', 'acoustic_guitar (293).jpg', 'acoustic_guitar (87).jpg', 'acoustic_guitar (302).jpg', 'acoustic_guitar (284).jpg', 'acoustic_guitar (374).jpg', 'acoustic_guitar (69).jpg', 'acoustic_guitar (246).jpg', 'acoustic_guitar (71).jpg', 'acoustic_guitar (337).jpg', 'acoustic_guitar (265).jpg', 'acoustic_guitar (39).jpg', 'acoustic_guitar (263).jpg', 'acoustic_guitar (213).jpg', 'acoustic_guitar (300).jpg', 'acoustic_guitar (212).jpg', 'acoustic_guitar (158).jpg', 'acoustic_guitar (322).jpg', 'acoustic_guitar (8).jpg', 'acoustic_guitar (85).jpg', 'acoustic_guitar (135).jpg', 'acoustic_guitar (151).jpg', 'acoustic_guitar (44).jpg', 'acoustic_guitar (12).jpg', 'acoustic_guitar (286).jpg', 'acoustic_guitar (214).jpg', 'acoustic_guitar (161).jpg', 'acoustic_guitar (79).jpg', 'acoustic_guitar (369).jpg', 'acoustic_guitar (198).jpg', 'acoustic_guitar (90).jpg', 'acoustic_guitar (52).jpg', 'acoustic_guitar (372).jpg', 'acoustic_guitar (118).jpg', 'acoustic_guitar (68).jpg', 'acoustic_guitar (190).jpg', 'acoustic_guitar (17).jpg', 'acoustic_guitar (241).jpg', 'acoustic_guitar (127).jpg', 'acoustic_guitar (219).jpg', 'acoustic_guitar (149).jpg', 'acoustic_guitar (184).jpg', 'acoustic_guitar (160).jpg', 'acoustic_guitar (325).jpg', 'acoustic_guitar (192).jpg', 'acoustic_guitar (156).jpg', 'acoustic_guitar (252).jpg', 'acoustic_guitar (215).jpg', 'acoustic_guitar (276).jpg', 'acoustic_guitar (336).jpg', 'acoustic_guitar (316).jpg', 'acoustic_guitar (297).jpg', 'acoustic_guitar (272).jpg', 'acoustic_guitar (73).jpg', 'acoustic_guitar (218).jpg', 'acoustic_guitar (11).jpg', 'acoustic_guitar (299).jpg', 'acoustic_guitar (329).jpg', 'acoustic_guitar (148).jpg', 'acoustic_guitar (222).jpg', 'acoustic_guitar (359).jpg', 'acoustic_guitar (75).jpg', 'acoustic_guitar (279).jpg', 'acoustic_guitar (380).jpg', 'acoustic_guitar (132).jpg', 'acoustic_guitar (237).jpg', 'acoustic_guitar (112).jpg', 'acoustic_guitar (203).jpg', 'acoustic_guitar (240).jpg', 'acoustic_guitar (269).jpg', 'acoustic_guitar (243).jpg', 'acoustic_guitar (291).jpg', 'acoustic_guitar (43).jpg', 'acoustic_guitar (358).jpg', 'acoustic_guitar (166).jpg', 'acoustic_guitar (177).jpg', 'acoustic_guitar (366).jpg', 'acoustic_guitar (312).jpg', 'acoustic_guitar (207).jpg', 'acoustic_guitar (231).jpg', 'acoustic_guitar (107).jpg', 'acoustic_guitar (275).jpg', 'acoustic_guitar (253).jpg', 'acoustic_guitar (201).jpg', 'acoustic_guitar (46).jpg', 'acoustic_guitar (188).jpg', 'acoustic_guitar (155).jpg', 'acoustic_guitar (40).jpg', 'acoustic_guitar (379).jpg', 'acoustic_guitar (53).jpg', 'acoustic_guitar (232).jpg', 'acoustic_guitar (99).jpg', 'acoustic_guitar (187).jpg', 'acoustic_guitar (24).jpg', 'acoustic_guitar (20).jpg', 'acoustic_guitar (164).jpg', 'acoustic_guitar (343).jpg', 'acoustic_guitar (376).jpg', 'acoustic_guitar (172).jpg', 'acoustic_guitar (108).jpg', 'acoustic_guitar (120).jpg', 'acoustic_guitar (318).jpg', 'acoustic_guitar (92).jpg']\n",
            "['bass_guitar (27).jpg', 'bass_guitar (99).jpg', 'bass_guitar (186).jpg', 'bass_guitar (56).jpg', 'bass_guitar (167).jpg', 'bass_guitar (60).jpg', 'bass_guitar (171).jpg', 'bass_guitar (198).jpg', 'bass_guitar (63).jpg', 'bass_guitar (103).jpg', 'bass_guitar (208).jpg', 'bass_guitar (204).jpg', 'bass_guitar (249).jpg', 'bass_guitar (136).jpg', 'bass_guitar (148).jpg', 'bass_guitar (178).jpg', 'bass_guitar (195).jpg', 'bass_guitar (189).jpg', 'bass_guitar (210).jpg', 'bass_guitar (129).jpg', 'bass_guitar (59).jpg', 'bass_guitar (102).jpg', 'bass_guitar (18).jpg', 'bass_guitar (149).jpg', 'bass_guitar (224).jpg', 'bass_guitar (84).jpg', 'bass_guitar (135).jpg', 'bass_guitar (96).jpg', 'bass_guitar (243).jpg', 'bass_guitar (179).jpg', 'bass_guitar (231).jpg', 'bass_guitar (240).jpg', 'bass_guitar (31).jpg', 'bass_guitar (253).jpg', 'bass_guitar (234).jpg', 'bass_guitar (20).jpg', 'bass_guitar (72).jpg', 'bass_guitar (17).jpg', 'bass_guitar (54).jpg', 'bass_guitar (251).jpg', 'bass_guitar (1).jpg', 'bass_guitar (30).jpg', 'bass_guitar (51).jpg', 'bass_guitar (35).jpg', 'bass_guitar (214).jpg', 'bass_guitar (209).jpg', 'bass_guitar (128).jpg', 'bass_guitar (138).jpg', 'bass_guitar (220).jpg', 'bass_guitar (112).jpg', 'bass_guitar (28).jpg', 'bass_guitar (169).jpg', 'bass_guitar (143).jpg', 'bass_guitar (201).jpg', 'bass_guitar (130).jpg', 'bass_guitar (25).jpg', 'bass_guitar (66).jpg', 'bass_guitar (94).jpg', 'bass_guitar (237).jpg', 'bass_guitar (29).jpg', 'bass_guitar (101).jpg', 'bass_guitar (226).jpg', 'bass_guitar (154).jpg', 'bass_guitar (250).jpg', 'bass_guitar (11).jpg', 'bass_guitar (52).jpg', 'bass_guitar (180).jpg', 'bass_guitar (57).jpg', 'bass_guitar (170).jpg', 'bass_guitar (193).jpg', 'bass_guitar (65).jpg', 'bass_guitar (115).jpg', 'bass_guitar (153).jpg', 'bass_guitar (121).jpg', 'bass_guitar (2).png', 'bass_guitar (62).jpg', 'bass_guitar (21).jpg', 'bass_guitar (144).jpg', 'bass_guitar (219).jpg', 'bass_guitar (6).png', 'bass_guitar (146).jpg', 'bass_guitar (92).jpg', 'bass_guitar (93).jpg', 'bass_guitar (2).jpg', 'bass_guitar (76).jpg', 'bass_guitar (131).jpg', 'bass_guitar (73).jpg', 'bass_guitar (81).jpg', 'bass_guitar (205).jpg', 'bass_guitar (134).jpg', 'bass_guitar (127).jpg', 'bass_guitar (139).jpg', 'bass_guitar (244).jpg', 'bass_guitar (111).jpg', 'bass_guitar (236).jpg', 'bass_guitar (187).jpg', 'bass_guitar (80).jpg', 'bass_guitar (97).jpg', 'bass_guitar (199).jpg', 'bass_guitar (39).jpg', 'bass_guitar (100).jpg', 'bass_guitar (174).jpg', 'bass_guitar (211).jpg', 'bass_guitar (44).jpg', 'bass_guitar (1).png', 'bass_guitar (165).jpg', 'bass_guitar (83).jpg', 'bass_guitar (49).jpg', 'bass_guitar (227).jpg', 'bass_guitar (69).jpg', 'bass_guitar (133).jpg', 'bass_guitar (221).jpg', 'bass_guitar (119).jpg', 'bass_guitar (162).jpg', 'bass_guitar (147).jpg', 'bass_guitar (137).jpg', 'bass_guitar (40).jpg', 'bass_guitar (235).jpg', 'bass_guitar (4).jpg', 'bass_guitar (88).jpg', 'bass_guitar (188).jpg', 'bass_guitar (45).jpg', 'bass_guitar (120).jpg', 'bass_guitar (47).jpg', 'bass_guitar (122).jpg', 'bass_guitar (145).jpg', 'bass_guitar (159).jpg', 'bass_guitar (125).jpg', 'bass_guitar (216).jpg', 'bass_guitar (160).jpg', 'bass_guitar (183).jpg', 'bass_guitar (108).jpg', 'bass_guitar (166).jpg', 'bass_guitar (218).jpg', 'bass_guitar (55).jpg', 'bass_guitar (34).jpg', 'bass_guitar (233).jpg', 'bass_guitar (91).jpg', 'bass_guitar (58).jpg', 'bass_guitar (182).jpg', 'bass_guitar (142).jpg', 'bass_guitar (245).jpg', 'bass_guitar (4).png', 'bass_guitar (82).jpg', 'bass_guitar (248).jpg', 'bass_guitar (163).jpg', 'bass_guitar (185).jpg', 'bass_guitar (157).jpg', 'bass_guitar (192).jpg', 'bass_guitar (242).jpg', 'bass_guitar (46).jpg', 'bass_guitar (64).jpg', 'bass_guitar (202).jpg', 'bass_guitar (181).jpg', 'bass_guitar (213).jpg', 'bass_guitar (10).jpg', 'bass_guitar (175).jpg', 'bass_guitar (132).jpg', 'bass_guitar (152).jpg', 'bass_guitar (8).jpg', 'bass_guitar (77).jpg', 'bass_guitar (87).jpg', 'bass_guitar (155).jpg', 'bass_guitar (200).jpg', 'bass_guitar (184).jpg', 'bass_guitar (105).jpg', 'bass_guitar (5).jpg', 'bass_guitar (36).jpg', 'bass_guitar (43).jpg', 'bass_guitar (222).jpg', 'bass_guitar (32).jpg', 'bass_guitar (232).jpg', 'bass_guitar (24).jpg', 'bass_guitar (61).jpg', 'bass_guitar (14).jpg', 'bass_guitar (172).jpg', 'bass_guitar (3).png', 'bass_guitar (78).jpg', 'bass_guitar (74).jpg', 'bass_guitar (156).jpg', 'bass_guitar (223).jpg', 'bass_guitar (98).jpg', 'bass_guitar (38).jpg', 'bass_guitar (67).jpg', 'bass_guitar (19).jpg', 'bass_guitar (217).jpg', 'bass_guitar (41).jpg', 'bass_guitar (107).jpg', 'bass_guitar (113).jpg', 'bass_guitar (124).jpg', 'bass_guitar (104).jpg', 'bass_guitar (176).jpg', 'bass_guitar (50).jpg', 'bass_guitar (239).jpg', 'bass_guitar (9).jpg', 'bass_guitar (42).jpg', 'bass_guitar (22).jpg', 'bass_guitar (229).jpg', 'bass_guitar (7).png', 'bass_guitar (177).jpg', 'bass_guitar (206).jpg', 'bass_guitar (247).jpg', 'bass_guitar (203).jpg', 'bass_guitar (1).tmp', 'bass_guitar (7).jpg', 'bass_guitar (228).jpg', 'bass_guitar (126).jpg', 'bass_guitar (123).jpg', 'bass_guitar (118).jpg', 'bass_guitar (79).jpg', 'bass_guitar (173).jpg', 'bass_guitar (16).jpg', 'bass_guitar (230).jpg', 'bass_guitar (15).jpg', 'bass_guitar (90).jpg', 'bass_guitar (114).jpg', 'bass_guitar (110).jpg', 'bass_guitar (212).jpg', 'bass_guitar (8).png', 'bass_guitar (53).jpg', 'bass_guitar (71).jpg', 'bass_guitar (106).jpg', 'bass_guitar (191).jpg', 'bass_guitar (158).jpg', 'bass_guitar (161).jpg', 'bass_guitar (238).jpg', 'bass_guitar (207).jpg', 'bass_guitar (23).jpg', 'bass_guitar (89).jpg', 'bass_guitar (141).jpg', 'bass_guitar (197).jpg', 'bass_guitar (5).png', 'bass_guitar (86).jpg', 'bass_guitar (95).jpg', 'bass_guitar (252).jpg', 'bass_guitar (196).jpg', 'bass_guitar (6).jpg', 'bass_guitar (190).jpg', 'bass_guitar (37).jpg', 'bass_guitar (241).jpg', 'bass_guitar (168).jpg', 'bass_guitar (151).jpg', 'bass_guitar (246).jpg', 'bass_guitar (48).jpg', 'bass_guitar (116).jpg', 'bass_guitar (194).jpg', 'bass_guitar (140).jpg', 'bass_guitar (68).jpg', 'bass_guitar (33).jpg', 'bass_guitar (12).jpg', 'bass_guitar (70).jpg', 'bass_guitar (164).jpg', 'bass_guitar (215).jpg', 'bass_guitar (117).jpg', 'bass_guitar (225).jpg', 'bass_guitar (150).jpg', 'bass_guitar (26).jpg', 'bass_guitar (85).jpg', 'bass_guitar (109).jpg', 'bass_guitar (3).jpg', 'bass_guitar (75).jpg', 'bass_guitar (13).jpg']\n",
            "['drums (140).jpg', 'drums (210).jpg', 'drums (185).jpg', 'drums (171).jpg', 'drums (154).jpg', 'drums (90).jpg', 'drums (246).jpg', 'drums (142).jpg', 'drums (250).jpg', 'drums (161).jpg', 'drums (262).jpg', 'drums (195).jpg', 'drums (272).jpg', 'drums (77).jpg', 'drums (17).jpg', 'drums (98).jpg', 'drums (279).jpg', 'drums (46).jpg', 'drums (254).jpg', 'drums (45).jpg', 'drums (226).jpg', 'drums (31).jpg', 'drums (300).jpg', 'drums (40).jpg', 'drums (54).jpg', 'drums (269).jpg', 'drums (133).jpg', 'drums (56).jpg', 'drums (55).jpg', 'drums (244).jpg', 'drums (283).jpg', 'drums (22).jpg', 'drums (3).jpg', 'drums (139).jpg', 'drums (157).jpg', 'drums (290).jpg', 'drums (21).jpg', 'drums (278).jpg', 'drums (10).jpg', 'drums (211).jpg', 'drums (227).jpg', 'drums (284).jpg', 'drums (263).jpg', 'drums (44).jpg', 'drums (277).jpg', 'drums (282).jpg', 'drums (76).jpg', 'drums (187).jpg', 'drums (73).jpg', 'drums (276).jpg', 'drums (115).jpg', 'drums (175).jpg', 'drums (35).jpg', 'drums (146).jpg', 'drums (37).jpg', 'drums (198).jpg', 'drums (79).jpg', 'drums (50).jpg', 'drums (138).jpg', 'drums (293).jpg', 'drums (186).jpg', 'drums (107).jpg', 'drums (288).jpg', 'drums (19).jpg', 'drums (125).jpg', 'drums (245).jpg', 'drums (28).jpg', 'drums (4).png', 'drums (169).jpg', 'drums (128).jpg', 'drums (203).jpg', 'drums (174).jpg', 'drums (123).jpg', 'drums (233).jpg', 'drums (144).jpg', 'drums (27).jpg', 'drums (255).jpg', 'drums (108).jpg', 'drums (87).jpg', 'drums (67).jpg', 'drums (74).jpg', 'drums (12).jpg', 'drums (234).jpg', 'drums (156).jpg', 'drums (91).jpg', 'drums (136).jpg', 'drums (259).jpg', 'drums (189).jpg', 'drums (34).jpg', 'drums (112).jpg', 'drums (96).jpg', 'drums (6).png', 'drums (225).jpg', 'drums (8).png', 'drums (24).jpg', 'drums (57).jpg', 'drums (239).jpg', 'drums (199).jpg', 'drums (212).jpg', 'drums (95).jpg', 'drums (270).jpg', 'drums (59).jpg', 'drums (248).jpg', 'drums (218).jpg', 'drums (25).jpg', 'drums (224).jpg', 'drums (122).jpg', 'drums (103).jpg', 'drums (166).jpg', 'drums (191).jpg', 'drums (232).jpg', 'drums (247).jpg', 'drums (230).jpg', 'drums (160).jpg', 'drums (261).jpg', 'drums (131).jpg', 'drums (162).jpg', 'drums (14).jpg', 'drums (192).jpg', 'drums (65).jpg', 'drums (75).jpg', 'drums (147).jpg', 'drums (274).jpg', 'drums (110).jpg', 'drums (43).jpg', 'drums (26).jpg', 'drums (20).jpg', 'drums (53).jpg', 'drums (7).png', 'drums (41).jpg', 'drums (93).jpg', 'drums (299).jpg', 'drums (126).jpg', 'drums (85).jpg', 'drums (1).png', 'drums (158).jpg', 'drums (168).jpg', 'drums (16).jpg', 'drums (69).jpg', 'drums (89).jpg', 'drums (63).jpg', 'drums (38).jpg', 'drums (173).jpg', 'drums (207).jpg', 'drums (88).jpg', 'drums (94).jpg', 'drums (266).jpg', 'drums (289).jpg', 'drums (298).jpg', 'drums (130).jpg', 'drums (243).jpg', 'drums (176).jpg', 'drums (23).jpg', 'drums (295).jpg', 'drums (165).jpg', 'drums (135).jpg', 'drums (71).jpg', 'drums (182).jpg', 'drums (86).jpg', 'drums (113).jpg', 'drums (66).jpg', 'drums (194).jpg', 'drums (219).jpg', 'drums (47).jpg', 'drums (193).jpg', 'drums (228).jpg', 'drums (2).jpg', 'drums (145).jpg', 'drums (119).jpg', 'drums (36).jpg', 'drums (260).jpg', 'drums (29).jpg', 'drums (223).jpg', 'drums (99).jpg', 'drums (280).jpg', 'drums (4).jpg', 'drums (1).jpg', 'drums (149).jpg', 'drums (117).jpg', 'drums (222).jpg', 'drums (265).jpg', 'drums (6).jpg', 'drums (188).jpg', 'drums (155).jpg', 'drums (3).png', 'drums (200).jpg', 'drums (196).jpg', 'drums (111).jpg', 'drums (286).jpg', 'drums (238).jpg', 'drums (201).jpg', 'drums (273).jpg', 'drums (236).jpg', 'drums (33).jpg', 'drums (172).jpg', 'drums (129).jpg', 'drums (5).jpg', 'drums (118).jpg', 'drums (197).jpg', 'drums (180).jpg', 'drums (183).jpg', 'drums (68).jpg', 'drums (213).jpg', 'drums (229).jpg', 'drums (137).jpg', 'drums (216).jpg', 'drums (253).jpg', 'drums (241).jpg', 'drums (285).jpg', 'drums (8).jpg', 'drums (152).jpg', 'drums (18).jpg', 'drums (7).jpg', 'drums (275).jpg', 'drums (153).jpg', 'drums (297).jpg', 'drums (202).jpg', 'drums (48).jpg', 'drums (264).jpg', 'drums (252).jpg', 'drums (49).jpg', 'drums (124).jpg', 'drums (251).jpg', 'drums (296).jpg', 'drums (121).jpg', 'drums (221).jpg', 'drums (61).jpg', 'drums (58).jpg', 'drums (242).jpg', 'drums (52).jpg', 'drums (150).jpg', 'drums (291).jpg', 'drums (51).jpg', 'drums (97).jpg', 'drums (177).jpg', 'drums (82).jpg', 'drums (240).jpg', 'drums (2).png', 'drums (120).jpg', 'drums (11).jpg', 'drums (205).jpg', 'drums (181).jpg', 'drums (204).jpg', 'drums (116).jpg', 'drums (141).jpg', 'drums (281).jpg', 'drums (190).jpg', 'drums (13).jpg', 'drums (231).jpg', 'drums (102).jpg', 'drums (249).jpg', 'drums (81).jpg', 'drums (209).jpg', 'drums (132).jpg', 'drums (179).jpg', 'drums (100).jpg', 'drums (215).jpg', 'drums (167).jpg', 'drums (159).jpg', 'drums (237).jpg', 'drums (292).jpg', 'drums (287).jpg', 'drums (127).jpg', 'drums (143).jpg', 'drums (84).jpg', 'drums (62).jpg', 'drums (72).jpg', 'drums (109).jpg', 'drums (257).jpg', 'drums (206).jpg', 'drums (114).jpg', 'drums (64).jpg', 'drums (105).jpg', 'drums (235).jpg', 'drums (9).jpg', 'drums (83).jpg', 'drums (267).jpg', 'drums (9).png', 'drums (163).jpg', 'drums (271).jpg', 'drums (104).jpg', 'drums (178).jpg', 'drums (92).jpg', 'drums (30).jpg', 'drums (60).jpg', 'drums (134).jpg', 'drums (256).jpg', 'drums (294).jpg', 'drums (78).jpg', 'drums (151).jpg', 'drums (42).jpg', 'drums (220).jpg', 'drums (268).jpg', 'drums (39).jpg', 'drums (80).jpg', 'drums (164).jpg', 'drums (258).jpg', 'drums (184).jpg', 'drums (101).jpg', 'drums (214).jpg', 'drums (217).jpg', 'drums (106).jpg', 'drums (170).jpg', 'drums (15).jpg', 'drums (5).png', 'drums (70).jpg', 'drums (208).jpg', 'drums (148).jpg', 'drums (32).jpg']\n",
            "['flute (130).jpg', 'flute (123).jpg', 'flute (96).jpg', 'flute (79).jpg', 'flute (77).jpg', 'flute (9).png', 'flute (12).jpg', 'flute (39).jpg', 'flute (78).jpg', 'flute (99).jpg', 'flute (101).jpg', 'flute (18).png', 'flute (74).jpg', 'flute (17).png', 'flute (26).png', 'flute (20).png', 'flute (6).jpg', 'flute (48).jpg', 'flute (6).png', 'flute (132).jpg', 'flute (84).jpg', 'flute (24).png', 'flute (75).jpg', 'flute (31).png', 'flute (67).jpg', 'flute (47).jpg', 'flute (92).jpg', 'flute (10).png', 'flute (135).jpg', 'flute (38).jpg', 'flute (60).jpg', 'flute (115).jpg', 'flute (4).png', 'flute (19).jpg', 'flute (118).jpg', 'flute (15).png', 'flute (80).jpg', 'flute (8).jpg', 'flute (120).jpg', 'flute (30).png', 'flute (85).jpg', 'flute (33).png', 'flute (86).jpg', 'flute (76).jpg', 'flute (3).png', 'flute (46).jpg', 'flute (11).png', 'flute (143).jpg', 'flute (36).png', 'flute (104).jpg', 'flute (102).jpg', 'flute (100).jpg', 'flute (7).png', 'flute (24).jpg', 'flute (58).jpg', 'flute (8).png', 'flute (128).jpg', 'flute (34).jpg', 'flute (61).jpg', 'flute (103).jpg', 'flute (33).jpg', 'flute (5).jpg', 'flute (136).jpg', 'flute (64).jpg', 'flute (3).jpg', 'flute (2).jpg', 'flute (138).jpg', 'flute (1).jpg', 'flute (34).png', 'flute (7).jpg', 'flute (108).jpg', 'flute (117).jpg', 'flute (35).jpg', 'flute (22).jpg', 'flute (37).jpg', 'flute (142).jpg', 'flute (72).jpg', 'flute (116).jpg', 'flute (16).png', 'flute (55).jpg', 'flute (10).jpg', 'flute (63).jpg', 'flute (134).jpg', 'flute (27).jpg', 'flute (109).jpg', 'flute (81).jpg', 'flute (113).jpg', 'flute (35).png', 'flute (105).jpg', 'flute (54).jpg', 'flute (82).jpg', 'flute (32).png', 'flute (27).png', 'flute (57).jpg', 'flute (40).jpg', 'flute (50).jpg', 'flute (119).jpg', 'flute (59).jpg', 'flute (25).png', 'flute (13).png', 'flute (93).jpg', 'flute (83).jpg', 'flute (4).jpg', 'flute (95).jpg', 'flute (62).jpg', 'flute (51).jpg', 'flute (112).jpg', 'flute (43).jpg', 'flute (90).jpg', 'flute (29).jpg', 'flute (26).jpg', 'flute (12).png', 'flute (110).jpg', 'flute (111).jpg', 'flute (88).jpg', 'flute (66).jpg', 'flute (98).jpg', 'flute (19).png', 'flute (107).jpg', 'flute (2).png', 'flute (137).jpg', 'flute (23).jpg', 'flute (36).jpg', 'flute (140).jpg', 'flute (14).jpg', 'flute (141).jpg', 'flute (9).jpg', 'flute (131).jpg', 'flute (49).jpg', 'flute (1).png', 'flute (5).png', 'flute (14).png', 'flute (28).jpg', 'flute (31).jpg', 'flute (11).jpg', 'flute (21).png', 'flute (30).jpg', 'flute (15).jpg', 'flute (126).jpg', 'flute (17).jpg', 'flute (114).jpg', 'flute (91).jpg', 'flute (65).jpg', 'flute (44).jpg', 'flute (70).jpg', 'flute (41).jpg', 'flute (71).jpg', 'flute (97).jpg', 'flute (20).jpg', 'flute (133).jpg', 'flute (89).jpg', 'flute (106).jpg', 'flute (13).jpg', 'flute (28).png', 'flute (42).jpg', 'flute (56).jpg', 'flute (73).jpg', 'flute (53).jpg', 'flute (122).jpg', 'flute (22).png', 'flute (87).jpg', 'flute (69).jpg', 'flute (68).jpg', 'flute (45).jpg', 'flute (121).jpg', 'flute (124).jpg', 'flute (125).jpg', 'flute (18).jpg', 'flute (25).jpg', 'flute (127).jpg', 'flute (139).jpg', 'flute (52).jpg', 'flute (94).jpg', 'flute (32).jpg', 'flute (129).jpg', 'flute (16).jpg', 'flute (23).png', 'flute (21).jpg']\n",
            "['gramophone (23).jpg', 'gramophone (248).jpg', 'gramophone (325).jpg', 'gramophone (16).png', 'gramophone (205).jpg', 'gramophone (185).jpg', 'gramophone (353).jpg', 'gramophone (311).jpg', 'gramophone (158).jpg', 'gramophone (89).jpg', 'gramophone (22).jpg', 'gramophone (84).jpg', 'gramophone (164).jpg', 'gramophone (331).jpg', 'gramophone (305).jpg', 'gramophone (166).jpg', 'gramophone (215).jpg', 'gramophone (99).jpg', 'gramophone (146).jpg', 'gramophone (86).jpg', 'gramophone (207).jpg', 'gramophone (355).jpg', 'gramophone (184).jpg', 'gramophone (44).jpg', 'gramophone (223).jpg', 'gramophone (211).jpg', 'gramophone (352).jpg', 'gramophone (62).jpg', 'gramophone (269).jpg', 'gramophone (79).jpg', 'gramophone (53).jpg', 'gramophone (10).png', 'gramophone (197).jpg', 'gramophone (317).jpg', 'gramophone (50).jpg', 'gramophone (56).jpg', 'gramophone (316).jpg', 'gramophone (246).jpg', 'gramophone (258).jpg', 'gramophone (284).jpg', 'gramophone (209).jpg', 'gramophone (296).jpg', 'gramophone (110).jpg', 'gramophone (3).jpg', 'gramophone (196).jpg', 'gramophone (262).jpg', 'gramophone (263).jpg', 'gramophone (323).jpg', 'gramophone (150).jpg', 'gramophone (187).jpg', 'gramophone (38).jpg', 'gramophone (230).jpg', 'gramophone (208).jpg', 'gramophone (358).jpg', 'gramophone (149).jpg', 'gramophone (67).jpg', 'gramophone (137).jpg', 'gramophone (9).jpg', 'gramophone (88).jpg', 'gramophone (98).jpg', 'gramophone (322).jpg', 'gramophone (307).jpg', 'gramophone (155).jpg', 'gramophone (20).jpg', 'gramophone (260).jpg', 'gramophone (334).jpg', 'gramophone (26).jpg', 'gramophone (289).jpg', 'gramophone (268).jpg', 'gramophone (357).jpg', 'gramophone (231).jpg', 'gramophone (87).jpg', 'gramophone (103).jpg', 'gramophone (22).png', 'gramophone (298).jpg', 'gramophone (254).jpg', 'gramophone (17).png', 'gramophone (69).jpg', 'gramophone (256).jpg', 'gramophone (275).jpg', 'gramophone (32).jpg', 'gramophone (152).jpg', 'gramophone (75).jpg', 'gramophone (172).jpg', 'gramophone (153).jpg', 'gramophone (267).jpg', 'gramophone (327).jpg', 'gramophone (92).jpg', 'gramophone (94).jpg', 'gramophone (177).jpg', 'gramophone (340).jpg', 'gramophone (93).jpg', 'gramophone (14).jpg', 'gramophone (144).jpg', 'gramophone (125).jpg', 'gramophone (180).jpg', 'gramophone (286).jpg', 'gramophone (74).jpg', 'gramophone (347).jpg', 'gramophone (126).jpg', 'gramophone (148).jpg', 'gramophone (139).jpg', 'gramophone (60).jpg', 'gramophone (25).jpg', 'gramophone (273).jpg', 'gramophone (15).png', 'gramophone (8).png', 'gramophone (329).jpg', 'gramophone (165).jpg', 'gramophone (227).jpg', 'gramophone (3).png', 'gramophone (346).jpg', 'gramophone (121).jpg', 'gramophone (202).jpg', 'gramophone (320).jpg', 'gramophone (283).jpg', 'gramophone (43).jpg', 'gramophone (161).jpg', 'gramophone (37).jpg', 'gramophone (151).jpg', 'gramophone (140).jpg', 'gramophone (354).jpg', 'gramophone (78).jpg', 'gramophone (19).jpg', 'gramophone (154).jpg', 'gramophone (68).jpg', 'gramophone (304).jpg', 'gramophone (245).jpg', 'gramophone (306).jpg', 'gramophone (15).jpg', 'gramophone (285).jpg', 'gramophone (24).jpg', 'gramophone (130).jpg', 'gramophone (21).png', 'gramophone (30).jpg', 'gramophone (95).jpg', 'gramophone (162).jpg', 'gramophone (308).jpg', 'gramophone (328).jpg', 'gramophone (81).jpg', 'gramophone (171).jpg', 'gramophone (128).jpg', 'gramophone (6).jpg', 'gramophone (42).jpg', 'gramophone (233).jpg', 'gramophone (192).jpg', 'gramophone (77).jpg', 'gramophone (276).jpg', 'gramophone (70).jpg', 'gramophone (176).jpg', 'gramophone (36).jpg', 'gramophone (20).png', 'gramophone (312).jpg', 'gramophone (156).jpg', 'gramophone (167).jpg', 'gramophone (360).jpg', 'gramophone (160).jpg', 'gramophone (102).jpg', 'gramophone (113).jpg', 'gramophone (292).jpg', 'gramophone (169).jpg', 'gramophone (287).jpg', 'gramophone (314).jpg', 'gramophone (1).jpg', 'gramophone (219).jpg', 'gramophone (199).jpg', 'gramophone (129).jpg', 'gramophone (189).jpg', 'gramophone (220).jpg', 'gramophone (344).jpg', 'gramophone (127).jpg', 'gramophone (40).jpg', 'gramophone (279).jpg', 'gramophone (272).jpg', 'gramophone (318).jpg', 'gramophone (194).jpg', 'gramophone (216).jpg', 'gramophone (203).jpg', 'gramophone (96).jpg', 'gramophone (337).jpg', 'gramophone (221).jpg', 'gramophone (119).jpg', 'gramophone (261).jpg', 'gramophone (175).jpg', 'gramophone (198).jpg', 'gramophone (242).jpg', 'gramophone (249).jpg', 'gramophone (225).jpg', 'gramophone (105).jpg', 'gramophone (65).jpg', 'gramophone (90).jpg', 'gramophone (118).jpg', 'gramophone (250).jpg', 'gramophone (114).jpg', 'gramophone (173).jpg', 'gramophone (350).jpg', 'gramophone (321).jpg', 'gramophone (5).png', 'gramophone (135).jpg', 'gramophone (239).jpg', 'gramophone (200).jpg', 'gramophone (183).jpg', 'gramophone (244).jpg', 'gramophone (343).jpg', 'gramophone (326).jpg', 'gramophone (217).jpg', 'gramophone (218).jpg', 'gramophone (178).jpg', 'gramophone (11).jpg', 'gramophone (8).jpg', 'gramophone (46).jpg', 'gramophone (294).jpg', 'gramophone (356).jpg', 'gramophone (45).jpg', 'gramophone (1).png', 'gramophone (147).jpg', 'gramophone (214).jpg', 'gramophone (333).jpg', 'gramophone (193).jpg', 'gramophone (349).jpg', 'gramophone (16).jpg', 'gramophone (116).jpg', 'gramophone (293).jpg', 'gramophone (232).jpg', 'gramophone (362).jpg', 'gramophone (212).jpg', 'gramophone (301).jpg', 'gramophone (351).jpg', 'gramophone (76).jpg', 'gramophone (265).jpg', 'gramophone (313).jpg', 'gramophone (112).jpg', 'gramophone (97).jpg', 'gramophone (108).jpg', 'gramophone (179).jpg', 'gramophone (64).jpg', 'gramophone (336).jpg', 'gramophone (324).jpg', 'gramophone (11).png', 'gramophone (104).jpg', 'gramophone (4).png', 'gramophone (115).jpg', 'gramophone (6).png', 'gramophone (274).jpg', 'gramophone (228).jpg', 'gramophone (13).jpg', 'gramophone (2).png', 'gramophone (41).jpg', 'gramophone (7).jpg', 'gramophone (332).jpg', 'gramophone (52).jpg', 'gramophone (111).jpg', 'gramophone (309).jpg', 'gramophone (341).jpg', 'gramophone (2).jpg', 'gramophone (7).png', 'gramophone (157).jpg', 'gramophone (101).jpg', 'gramophone (252).jpg', 'gramophone (243).jpg', 'gramophone (348).jpg', 'gramophone (138).jpg', 'gramophone (72).jpg', 'gramophone (145).jpg', 'gramophone (106).jpg', 'gramophone (240).jpg', 'gramophone (131).jpg', 'gramophone (120).jpg', 'gramophone (4).jpg', 'gramophone (51).jpg', 'gramophone (229).jpg', 'gramophone (170).jpg', 'gramophone (9).png', 'gramophone (277).jpg', 'gramophone (100).jpg', 'gramophone (315).jpg', 'gramophone (82).jpg', 'gramophone (237).jpg', 'gramophone (186).jpg', 'gramophone (181).jpg', 'gramophone (39).jpg', 'gramophone (123).jpg', 'gramophone (280).jpg', 'gramophone (210).jpg', 'gramophone (57).jpg', 'gramophone (80).jpg', 'gramophone (168).jpg', 'gramophone (282).jpg', 'gramophone (12).jpg', 'gramophone (17).jpg', 'gramophone (222).jpg', 'gramophone (109).jpg', 'gramophone (27).jpg', 'gramophone (236).jpg', 'gramophone (345).jpg', 'gramophone (255).jpg', 'gramophone (278).jpg', 'gramophone (5).jpg', 'gramophone (204).jpg', 'gramophone (190).jpg', 'gramophone (310).jpg', 'gramophone (188).jpg', 'gramophone (124).jpg', 'gramophone (55).jpg', 'gramophone (361).jpg', 'gramophone (18).jpg', 'gramophone (339).jpg', 'gramophone (29).jpg', 'gramophone (33).jpg', 'gramophone (234).jpg', 'gramophone (83).jpg', 'gramophone (259).jpg', 'gramophone (28).jpg', 'gramophone (295).jpg', 'gramophone (191).jpg', 'gramophone (319).jpg', 'gramophone (134).jpg', 'gramophone (297).jpg', 'gramophone (206).jpg', 'gramophone (174).jpg', 'gramophone (195).jpg', 'gramophone (288).jpg', 'gramophone (270).jpg', 'gramophone (31).jpg', 'gramophone (58).jpg', 'gramophone (133).jpg', 'gramophone (299).jpg', 'gramophone (34).jpg', 'gramophone (12).png', 'gramophone (257).jpg', 'gramophone (35).jpg', 'gramophone (182).jpg', 'gramophone (59).jpg', 'gramophone (251).jpg', 'gramophone (132).jpg', 'gramophone (91).jpg', 'gramophone (300).jpg', 'gramophone (247).jpg', 'gramophone (291).jpg', 'gramophone (235).jpg', 'gramophone (359).jpg', 'gramophone (266).jpg', 'gramophone (342).jpg', 'gramophone (136).jpg', 'gramophone (253).jpg', 'gramophone (330).jpg', 'gramophone (66).jpg', 'gramophone (264).jpg', 'gramophone (122).jpg', 'gramophone (107).jpg', 'gramophone (47).jpg', 'gramophone (159).jpg', 'gramophone (335).jpg', 'gramophone (271).jpg', 'gramophone (13).png', 'gramophone (18).png', 'gramophone (201).jpg', 'gramophone (281).jpg', 'gramophone (21).jpg', 'gramophone (238).jpg', 'gramophone (338).jpg', 'gramophone (303).jpg', 'gramophone (48).jpg', 'gramophone (10).jpg', 'gramophone (117).jpg', 'gramophone (49).jpg', 'gramophone (71).jpg', 'gramophone (142).jpg', 'gramophone (213).jpg', 'gramophone (290).jpg', 'gramophone (63).jpg', 'gramophone (302).jpg', 'gramophone (61).jpg', 'gramophone (143).jpg', 'gramophone (163).jpg', 'gramophone (85).jpg', 'gramophone (141).jpg', 'gramophone (224).jpg', 'gramophone (54).jpg', 'gramophone (19).png', 'gramophone (73).jpg', 'gramophone (14).png', 'gramophone (241).jpg', 'gramophone (226).jpg']\n",
            "['harp (164).jpg', 'harp (332).jpg', 'harp (385).jpg', 'harp (12).jpg', 'harp (194).jpg', 'harp (290).jpg', 'harp (338).jpg', 'harp (165).jpg', 'harp (322).jpg', 'harp (56).jpg', 'harp (190).jpg', 'harp (327).jpg', 'harp (103).jpg', 'harp (348).jpg', 'harp (69).jpg', 'harp (143).jpg', 'harp (33).jpg', 'harp (64).jpg', 'harp (188).jpg', 'harp (9).jpg', 'harp (281).jpg', 'harp (304).jpg', 'harp (70).jpg', 'harp (294).jpg', 'harp (146).jpg', 'harp (77).jpg', 'harp (21).jpg', 'harp (310).jpg', 'harp (299).jpg', 'harp (334).jpg', 'harp (286).jpg', 'harp (124).jpg', 'harp (5).png', 'harp (340).jpg', 'harp (54).jpg', 'harp (139).jpg', 'harp (364).jpg', 'harp (211).jpg', 'harp (176).jpg', 'harp (204).jpg', 'harp (187).jpg', 'harp (387).jpg', 'harp (306).jpg', 'harp (154).jpg', 'harp (217).jpg', 'harp (328).jpg', 'harp (273).jpg', 'harp (193).jpg', 'harp (342).jpg', 'harp (325).jpg', 'harp (268).jpg', 'harp (380).jpg', 'harp (370).jpg', 'harp (30).jpg', 'harp (235).jpg', 'harp (26).jpg', 'harp (366).jpg', 'harp (46).jpg', 'harp (344).jpg', 'harp (74).jpg', 'harp (326).jpg', 'harp (72).jpg', 'harp (214).jpg', 'harp (150).jpg', 'harp (20).png', 'harp (10).jpg', 'harp (128).jpg', 'harp (112).jpg', 'harp (360).jpg', 'harp (23).jpg', 'harp (14).jpg', 'harp (78).jpg', 'harp (373).jpg', 'harp (137).jpg', 'harp (319).jpg', 'harp (195).jpg', 'harp (63).jpg', 'harp (173).jpg', 'harp (213).jpg', 'harp (60).jpg', 'harp (156).jpg', 'harp (151).jpg', 'harp (131).jpg', 'harp (4).png', 'harp (10).png', 'harp (1).png', 'harp (221).jpg', 'harp (4).jpg', 'harp (66).jpg', 'harp (99).jpg', 'harp (308).jpg', 'harp (347).jpg', 'harp (169).jpg', 'harp (6).jpg', 'harp (185).jpg', 'harp (245).jpg', 'harp (11).png', 'harp (234).jpg', 'harp (355).jpg', 'harp (352).jpg', 'harp (383).jpg', 'harp (392).jpg', 'harp (80).jpg', 'harp (117).jpg', 'harp (186).jpg', 'harp (298).jpg', 'harp (231).jpg', 'harp (29).jpg', 'harp (7).jpg', 'harp (343).jpg', 'harp (363).jpg', 'harp (255).jpg', 'harp (246).jpg', 'harp (81).jpg', 'harp (293).jpg', 'harp (8).jpg', 'harp (263).jpg', 'harp (394).jpg', 'harp (3).jpg', 'harp (134).jpg', 'harp (163).jpg', 'harp (97).jpg', 'harp (208).jpg', 'harp (270).jpg', 'harp (365).jpg', 'harp (155).jpg', 'harp (389).jpg', 'harp (31).jpg', 'harp (276).jpg', 'harp (351).jpg', 'harp (159).jpg', 'harp (108).jpg', 'harp (100).jpg', 'harp (135).jpg', 'harp (107).jpg', 'harp (140).jpg', 'harp (369).jpg', 'harp (119).jpg', 'harp (181).jpg', 'harp (197).jpg', 'harp (50).jpg', 'harp (265).jpg', 'harp (316).jpg', 'harp (257).jpg', 'harp (111).jpg', 'harp (377).jpg', 'harp (2).jpg', 'harp (280).jpg', 'harp (282).jpg', 'harp (68).jpg', 'harp (393).jpg', 'harp (258).jpg', 'harp (184).jpg', 'harp (354).jpg', 'harp (229).jpg', 'harp (376).jpg', 'harp (381).jpg', 'harp (295).jpg', 'harp (239).jpg', 'harp (18).png', 'harp (183).jpg', 'harp (118).jpg', 'harp (158).jpg', 'harp (82).jpg', 'harp (222).jpg', 'harp (309).jpg', 'harp (192).jpg', 'harp (300).jpg', 'harp (269).jpg', 'harp (182).jpg', 'harp (55).jpg', 'harp (115).jpg', 'harp (233).jpg', 'harp (206).jpg', 'harp (161).jpg', 'harp (331).jpg', 'harp (162).jpg', 'harp (8).png', 'harp (357).jpg', 'harp (6).png', 'harp (291).jpg', 'harp (59).jpg', 'harp (303).jpg', 'harp (95).jpg', 'harp (142).jpg', 'harp (160).jpg', 'harp (212).jpg', 'harp (346).jpg', 'harp (17).jpg', 'harp (92).jpg', 'harp (36).jpg', 'harp (79).jpg', 'harp (350).jpg', 'harp (384).jpg', 'harp (264).jpg', 'harp (20).jpg', 'harp (35).jpg', 'harp (349).jpg', 'harp (65).jpg', 'harp (314).jpg', 'harp (279).jpg', 'harp (39).jpg', 'harp (359).jpg', 'harp (215).jpg', 'harp (285).jpg', 'harp (271).jpg', 'harp (48).jpg', 'harp (311).jpg', 'harp (1).jpg', 'harp (145).jpg', 'harp (57).jpg', 'harp (191).jpg', 'harp (250).jpg', 'harp (34).jpg', 'harp (41).jpg', 'harp (305).jpg', 'harp (106).jpg', 'harp (296).jpg', 'harp (49).jpg', 'harp (109).jpg', 'harp (27).jpg', 'harp (278).jpg', 'harp (339).jpg', 'harp (315).jpg', 'harp (223).jpg', 'harp (374).jpg', 'harp (152).jpg', 'harp (297).jpg', 'harp (236).jpg', 'harp (320).jpg', 'harp (196).jpg', 'harp (317).jpg', 'harp (149).jpg', 'harp (94).jpg', 'harp (361).jpg', 'harp (378).jpg', 'harp (177).jpg', 'harp (283).jpg', 'harp (232).jpg', 'harp (274).jpg', 'harp (247).jpg', 'harp (388).jpg', 'harp (62).jpg', 'harp (15).png', 'harp (312).jpg', 'harp (323).jpg', 'harp (243).jpg', 'harp (272).jpg', 'harp (318).jpg', 'harp (51).jpg', 'harp (89).jpg', 'harp (216).jpg', 'harp (225).jpg', 'harp (227).jpg', 'harp (15).jpg', 'harp (120).jpg', 'harp (43).jpg', 'harp (16).jpg', 'harp (179).jpg', 'harp (73).jpg', 'harp (275).jpg', 'harp (372).jpg', 'harp (129).jpg', 'harp (84).jpg', 'harp (242).jpg', 'harp (292).jpg', 'harp (96).jpg', 'harp (248).jpg', 'harp (32).jpg', 'harp (17).png', 'harp (260).jpg', 'harp (52).jpg', 'harp (144).jpg', 'harp (19).png', 'harp (71).jpg', 'harp (105).jpg', 'harp (37).jpg', 'harp (104).jpg', 'harp (13).png', 'harp (228).jpg', 'harp (40).jpg', 'harp (307).jpg', 'harp (386).jpg', 'harp (301).jpg', 'harp (90).jpg', 'harp (61).jpg', 'harp (127).jpg', 'harp (251).jpg', 'harp (25).jpg', 'harp (14).png', 'harp (3).png', 'harp (123).jpg', 'harp (19).jpg', 'harp (249).jpg', 'harp (91).jpg', 'harp (67).jpg', 'harp (210).jpg', 'harp (24).jpg', 'harp (226).jpg', 'harp (259).jpg', 'harp (267).jpg', 'harp (288).jpg', 'harp (333).jpg', 'harp (86).jpg', 'harp (209).jpg', 'harp (157).jpg', 'harp (395).jpg', 'harp (321).jpg', 'harp (324).jpg', 'harp (172).jpg', 'harp (53).jpg', 'harp (262).jpg', 'harp (382).jpg', 'harp (5).jpg', 'harp (241).jpg', 'harp (170).jpg', 'harp (116).jpg', 'harp (189).jpg', 'harp (199).jpg', 'harp (202).jpg', 'harp (201).jpg', 'harp (9).png', 'harp (353).jpg', 'harp (219).jpg', 'harp (76).jpg', 'harp (7).png', 'harp (18).jpg', 'harp (42).jpg', 'harp (101).jpg', 'harp (110).jpg', 'harp (58).jpg', 'harp (330).jpg', 'harp (126).jpg', 'harp (302).jpg', 'harp (178).jpg', 'harp (12).png', 'harp (238).jpg', 'harp (230).jpg', 'harp (166).jpg', 'harp (329).jpg', 'harp (88).jpg', 'harp (379).jpg', 'harp (289).jpg', 'harp (22).jpg', 'harp (371).jpg', 'harp (122).jpg', 'harp (284).jpg', 'harp (168).jpg', 'harp (345).jpg', 'harp (83).jpg', 'harp (130).jpg', 'harp (390).jpg', 'harp (277).jpg', 'harp (44).jpg', 'harp (336).jpg', 'harp (136).jpg', 'harp (375).jpg', 'harp (75).jpg', 'harp (113).jpg', 'harp (132).jpg', 'harp (153).jpg', 'harp (28).jpg', 'harp (356).jpg', 'harp (114).jpg', 'harp (200).jpg', 'harp (121).jpg', 'harp (133).jpg', 'harp (171).jpg', 'harp (148).jpg', 'harp (85).jpg', 'harp (253).jpg', 'harp (358).jpg', 'harp (180).jpg', 'harp (287).jpg', 'harp (368).jpg', 'harp (11).jpg', 'harp (141).jpg', 'harp (256).jpg', 'harp (38).jpg', 'harp (138).jpg', 'harp (167).jpg', 'harp (47).jpg', 'harp (16).png', 'harp (341).jpg', 'harp (367).jpg', 'harp (220).jpg', 'harp (313).jpg', 'harp (244).jpg', 'harp (224).jpg', 'harp (237).jpg', 'harp (45).jpg', 'harp (93).jpg', 'harp (362).jpg', 'harp (102).jpg', 'harp (240).jpg', 'harp (391).jpg', 'harp (337).jpg', 'harp (87).jpg', 'harp (252).jpg', 'harp (198).jpg', 'harp (266).jpg', 'harp (98).jpg', 'harp (147).jpg', 'harp (207).jpg', 'harp (175).jpg', 'harp (174).jpg', 'harp (2).png', 'harp (218).jpg', 'harp (13).jpg', 'harp (254).jpg', 'harp (125).jpg', 'harp (203).jpg', 'harp (205).jpg', 'harp (335).jpg', 'harp (261).jpg']\n",
            "['piano (198).jpg', 'piano (112).jpg', 'piano (7).jpg', 'piano (61).jpg', 'piano (92).jpg', 'piano (199).jpg', 'piano (111).jpg', 'piano (194).jpg', 'piano (208).jpg', 'piano (200).jpg', 'piano (117).jpg', 'piano (158).jpg', 'piano (34).jpg', 'piano (80).jpg', 'piano (152).jpg', 'piano (151).jpg', 'piano (139).jpg', 'piano (74).jpg', 'piano (163).jpg', 'piano (6).jpg', 'piano (50).jpg', 'piano (147).jpg', 'piano (182).jpg', 'piano (162).jpg', 'piano (101).jpg', 'piano (59).jpg', 'piano (115).jpg', 'piano (118).jpg', 'piano (68).jpg', 'piano (72).jpg', 'piano (192).jpg', 'piano (6).png', 'piano (174).jpg', 'piano (131).jpg', 'piano (95).jpg', 'piano (96).jpg', 'piano (211).jpg', 'piano (107).jpg', 'piano (12).jpg', 'piano (35).jpg', 'piano (144).jpg', 'piano (165).jpg', 'piano (102).jpg', 'piano (126).jpg', 'piano (156).jpg', 'piano (122).jpg', 'piano (169).jpg', 'piano (138).jpg', 'piano (166).jpg', 'piano (196).jpg', 'piano (181).jpg', 'piano (143).jpg', 'piano (127).jpg', 'piano (15).jpg', 'piano (191).jpg', 'piano (206).jpg', 'piano (171).jpg', 'piano (16).jpg', 'piano (201).jpg', 'piano (1).jpg', 'piano (215).jpg', 'piano (140).jpg', 'piano (60).jpg', 'piano (18).jpg', 'piano (21).jpg', 'piano (90).jpg', 'piano (67).jpg', 'piano (146).jpg', 'piano (52).jpg', 'piano (13).jpg', 'piano (57).jpg', 'piano (2).png', 'piano (39).jpg', 'piano (2).jpg', 'piano (178).jpg', 'piano (23).jpg', 'piano (63).jpg', 'piano (66).jpg', 'piano (197).jpg', 'piano (85).jpg', 'piano (98).jpg', 'piano (157).jpg', 'piano (10).jpg', 'piano (5).jpg', 'piano (28).jpg', 'piano (81).jpg', 'piano (27).jpg', 'piano (53).jpg', 'piano (161).jpg', 'piano (14).jpg', 'piano (32).jpg', 'piano (145).jpg', 'piano (99).jpg', 'piano (71).jpg', 'piano (97).jpg', 'piano (55).jpg', 'piano (91).jpg', 'piano (129).jpg', 'piano (69).jpg', 'piano (37).jpg', 'piano (105).jpg', 'piano (210).jpg', 'piano (154).jpg', 'piano (168).jpg', 'piano (47).jpg', 'piano (104).jpg', 'piano (217).jpg', 'piano (3).png', 'piano (133).jpg', 'piano (130).jpg', 'piano (114).jpg', 'piano (170).jpg', 'piano (173).jpg', 'piano (44).jpg', 'piano (51).jpg', 'piano (134).jpg', 'piano (159).jpg', 'piano (19).jpg', 'piano (83).jpg', 'piano (77).jpg', 'piano (20).jpg', 'piano (142).jpg', 'piano (189).jpg', 'piano (78).jpg', 'piano (43).jpg', 'piano (103).jpg', 'piano (205).jpg', 'piano (46).jpg', 'piano (155).jpg', 'piano (40).jpg', 'piano (116).jpg', 'piano (180).jpg', 'piano (153).jpg', 'piano (207).jpg', 'piano (119).jpg', 'piano (76).jpg', 'piano (62).jpg', 'piano (186).jpg', 'piano (160).jpg', 'piano (8).jpg', 'piano (5).png', 'piano (190).jpg', 'piano (150).jpg', 'piano (84).jpg', 'piano (22).jpg', 'piano (4).jpg', 'piano (31).jpg', 'piano (113).jpg', 'piano (203).jpg', 'piano (45).jpg', 'piano (214).jpg', 'piano (123).jpg', 'piano (135).jpg', 'piano (24).jpg', 'piano (93).jpg', 'piano (121).jpg', 'piano (188).jpg', 'piano (124).jpg', 'piano (187).jpg', 'piano (184).jpg', 'piano (58).jpg', 'piano (125).jpg', 'piano (167).jpg', 'piano (108).jpg', 'piano (49).jpg', 'piano (3).jpg', 'piano (209).jpg', 'piano (9).jpg', 'piano (33).jpg', 'piano (179).jpg', 'piano (94).jpg', 'piano (110).jpg', 'piano (38).jpg', 'piano (1).png', 'piano (136).jpg', 'piano (65).jpg', 'piano (73).jpg', 'piano (30).jpg', 'piano (213).jpg', 'piano (106).jpg', 'piano (109).jpg', 'piano (87).jpg', 'piano (89).jpg', 'piano (42).jpg', 'piano (149).jpg', 'piano (176).jpg', 'piano (79).jpg', 'piano (141).jpg', 'piano (195).jpg', 'piano (204).jpg', 'piano (75).jpg', 'piano (183).jpg', 'piano (25).jpg', 'piano (202).jpg', 'piano (82).jpg', 'piano (86).jpg', 'piano (48).jpg', 'piano (88).jpg', 'piano (64).jpg', 'piano (216).jpg', 'piano (185).jpg', 'piano (70).jpg', 'piano (212).jpg', 'piano (41).jpg', 'piano (164).jpg', 'piano (175).jpg', 'piano (56).jpg', 'piano (193).jpg', 'piano (4).png', 'piano (54).jpg', 'piano (137).jpg', 'piano (128).jpg', 'piano (177).jpg', 'piano (148).jpg', 'piano (29).jpg', 'piano (36).jpg', 'piano (11).jpg', 'piano (17).jpg', 'piano (120).jpg', 'piano (132).jpg', 'piano (100).jpg', 'piano (172).jpg', 'piano (26).jpg']\n",
            "['saxophone (18).jpg', 'saxophone (114).jpg', 'saxophone (130).jpg', 'saxophone (152).jpg', 'saxophone (316).jpg', 'saxophone (16).jpg', 'saxophone (216).jpg', 'saxophone (9).png', 'saxophone (337).jpg', 'saxophone (122).jpg', 'saxophone (57).jpg', 'saxophone (195).jpg', 'saxophone (14).png', 'saxophone (234).jpg', 'saxophone (5).png', 'saxophone (230).jpg', 'saxophone (31).png', 'saxophone (17).png', 'saxophone (47).jpg', 'saxophone (266).jpg', 'saxophone (120).jpg', 'saxophone (334).jpg', 'saxophone (134).jpg', 'saxophone (273).jpg', 'saxophone (263).jpg', 'saxophone (142).jpg', 'saxophone (199).jpg', 'saxophone (217).jpg', 'saxophone (95).jpg', 'saxophone (157).jpg', 'saxophone (198).jpg', 'saxophone (251).jpg', 'saxophone (24).jpg', 'saxophone (247).jpg', 'saxophone (192).jpg', 'saxophone (117).jpg', 'saxophone (124).jpg', 'saxophone (3).jpg', 'saxophone (189).jpg', 'saxophone (8).jpg', 'saxophone (262).jpg', 'saxophone (41).jpg', 'saxophone (205).jpg', 'saxophone (36).jpg', 'saxophone (297).jpg', 'saxophone (243).jpg', 'saxophone (43).jpg', 'saxophone (213).jpg', 'saxophone (179).jpg', 'saxophone (180).jpg', 'saxophone (162).jpg', 'saxophone (138).jpg', 'saxophone (103).jpg', 'saxophone (168).jpg', 'saxophone (161).jpg', 'saxophone (64).jpg', 'saxophone (181).jpg', 'saxophone (18).png', 'saxophone (96).jpg', 'saxophone (184).jpg', 'saxophone (45).jpg', 'saxophone (250).jpg', 'saxophone (172).jpg', 'saxophone (160).jpg', 'saxophone (306).jpg', 'saxophone (115).jpg', 'saxophone (101).jpg', 'saxophone (106).jpg', 'saxophone (49).jpg', 'saxophone (3).png', 'saxophone (132).jpg', 'saxophone (2).jpg', 'saxophone (240).jpg', 'saxophone (118).jpg', 'saxophone (196).jpg', 'saxophone (323).jpg', 'saxophone (212).jpg', 'saxophone (260).jpg', 'saxophone (204).jpg', 'saxophone (63).jpg', 'saxophone (165).jpg', 'saxophone (34).jpg', 'saxophone (131).jpg', 'saxophone (327).jpg', 'saxophone (224).jpg', 'saxophone (227).jpg', 'saxophone (288).jpg', 'saxophone (133).jpg', 'saxophone (293).jpg', 'saxophone (145).jpg', 'saxophone (67).jpg', 'saxophone (228).jpg', 'saxophone (202).jpg', 'saxophone (53).jpg', 'saxophone (14).jpg', 'saxophone (37).jpg', 'saxophone (35).jpg', 'saxophone (73).jpg', 'saxophone (173).jpg', 'saxophone (94).jpg', 'saxophone (23).jpg', 'saxophone (292).jpg', 'saxophone (325).jpg', 'saxophone (200).jpg', 'saxophone (155).jpg', 'saxophone (283).jpg', 'saxophone (16).png', 'saxophone (219).jpg', 'saxophone (147).jpg', 'saxophone (312).jpg', 'saxophone (40).jpg', 'saxophone (1).jpg', 'saxophone (318).jpg', 'saxophone (21).jpg', 'saxophone (108).jpg', 'saxophone (11).jpg', 'saxophone (197).jpg', 'saxophone (259).jpg', 'saxophone (210).jpg', 'saxophone (232).jpg', 'saxophone (238).jpg', 'saxophone (76).jpg', 'saxophone (188).jpg', 'saxophone (254).jpg', 'saxophone (6).png', 'saxophone (44).jpg', 'saxophone (193).jpg', 'saxophone (6).jpg', 'saxophone (332).jpg', 'saxophone (311).jpg', 'saxophone (242).jpg', 'saxophone (208).jpg', 'saxophone (307).jpg', 'saxophone (156).jpg', 'saxophone (253).jpg', 'saxophone (59).jpg', 'saxophone (112).jpg', 'saxophone (261).jpg', 'saxophone (17).jpg', 'saxophone (121).jpg', 'saxophone (99).jpg', 'saxophone (302).jpg', 'saxophone (291).jpg', 'saxophone (326).jpg', 'saxophone (104).jpg', 'saxophone (109).jpg', 'saxophone (60).jpg', 'saxophone (233).jpg', 'saxophone (42).jpg', 'saxophone (137).jpg', 'saxophone (20).jpg', 'saxophone (303).jpg', 'saxophone (255).jpg', 'saxophone (127).jpg', 'saxophone (8).png', 'saxophone (231).jpg', 'saxophone (66).jpg', 'saxophone (87).jpg', 'saxophone (27).jpg', 'saxophone (206).jpg', 'saxophone (269).jpg', 'saxophone (183).jpg', 'saxophone (65).jpg', 'saxophone (258).jpg', 'saxophone (84).jpg', 'saxophone (209).jpg', 'saxophone (68).jpg', 'saxophone (229).jpg', 'saxophone (1).png', 'saxophone (294).jpg', 'saxophone (249).jpg', 'saxophone (295).jpg', 'saxophone (52).jpg', 'saxophone (39).jpg', 'saxophone (226).jpg', 'saxophone (86).jpg', 'saxophone (28).png', 'saxophone (282).jpg', 'saxophone (58).jpg', 'saxophone (317).jpg', 'saxophone (268).jpg', 'saxophone (113).jpg', 'saxophone (100).jpg', 'saxophone (140).jpg', 'saxophone (123).jpg', 'saxophone (154).jpg', 'saxophone (166).jpg', 'saxophone (236).jpg', 'saxophone (190).jpg', 'saxophone (22).jpg', 'saxophone (340).jpg', 'saxophone (78).jpg', 'saxophone (33).jpg', 'saxophone (298).jpg', 'saxophone (276).jpg', 'saxophone (10).png', 'saxophone (15).png', 'saxophone (32).jpg', 'saxophone (335).jpg', 'saxophone (89).jpg', 'saxophone (211).jpg', 'saxophone (252).jpg', 'saxophone (128).jpg', 'saxophone (257).jpg', 'saxophone (187).jpg', 'saxophone (169).jpg', 'saxophone (222).jpg', 'saxophone (176).jpg', 'saxophone (221).jpg', 'saxophone (280).jpg', 'saxophone (235).jpg', 'saxophone (333).jpg', 'saxophone (256).jpg', 'saxophone (72).jpg', 'saxophone (19).jpg', 'saxophone (61).jpg', 'saxophone (246).jpg', 'saxophone (46).jpg', 'saxophone (110).jpg', 'saxophone (23).png', 'saxophone (330).jpg', 'saxophone (62).jpg', 'saxophone (223).jpg', 'saxophone (107).jpg', 'saxophone (322).jpg', 'saxophone (26).png', 'saxophone (56).jpg', 'saxophone (203).jpg', 'saxophone (186).jpg', 'saxophone (144).jpg', 'saxophone (215).jpg', 'saxophone (287).jpg', 'saxophone (71).jpg', 'saxophone (5).jpg', 'saxophone (308).jpg', 'saxophone (4).png', 'saxophone (4).jpg', 'saxophone (151).jpg', 'saxophone (328).jpg', 'saxophone (7).png', 'saxophone (15).jpg', 'saxophone (267).jpg', 'saxophone (85).jpg', 'saxophone (38).jpg', 'saxophone (148).jpg', 'saxophone (32).png', 'saxophone (98).jpg', 'saxophone (341).jpg', 'saxophone (79).jpg', 'saxophone (218).jpg', 'saxophone (304).jpg', 'saxophone (69).jpg', 'saxophone (167).jpg', 'saxophone (278).jpg', 'saxophone (119).jpg', 'saxophone (48).jpg', 'saxophone (339).jpg', 'saxophone (129).jpg', 'saxophone (141).jpg', 'saxophone (92).jpg', 'saxophone (309).jpg', 'saxophone (126).jpg', 'saxophone (315).jpg', 'saxophone (338).jpg', 'saxophone (81).jpg', 'saxophone (125).jpg', 'saxophone (289).jpg', 'saxophone (237).jpg', 'saxophone (277).jpg', 'saxophone (50).jpg', 'saxophone (286).jpg', 'saxophone (296).jpg', 'saxophone (102).jpg', 'saxophone (271).jpg', 'saxophone (80).jpg', 'saxophone (313).jpg', 'saxophone (13).jpg', 'saxophone (245).jpg', 'saxophone (214).jpg', 'saxophone (171).jpg', 'saxophone (136).jpg', 'saxophone (55).jpg', 'saxophone (24).png', 'saxophone (175).jpg', 'saxophone (149).jpg', 'saxophone (54).jpg', 'saxophone (336).jpg', 'saxophone (264).jpg', 'saxophone (28).jpg', 'saxophone (146).jpg', 'saxophone (301).jpg', 'saxophone (300).jpg', 'saxophone (320).jpg', 'saxophone (191).jpg', 'saxophone (153).jpg', 'saxophone (139).jpg', 'saxophone (185).jpg', 'saxophone (331).jpg', 'saxophone (12).png', 'saxophone (25).png', 'saxophone (27).png', 'saxophone (22).png', 'saxophone (270).jpg', 'saxophone (74).jpg', 'saxophone (116).jpg', 'saxophone (274).jpg', 'saxophone (143).jpg', 'saxophone (91).jpg', 'saxophone (290).jpg', 'saxophone (97).jpg', 'saxophone (12).jpg', 'saxophone (2).png', 'saxophone (105).jpg', 'saxophone (272).jpg', 'saxophone (299).jpg', 'saxophone (26).jpg', 'saxophone (135).jpg', 'saxophone (30).png', 'saxophone (201).jpg', 'saxophone (51).jpg', 'saxophone (30).jpg', 'saxophone (111).jpg', 'saxophone (19).png', 'saxophone (305).jpg', 'saxophone (7).jpg', 'saxophone (150).jpg', 'saxophone (9).jpg', 'saxophone (265).jpg', 'saxophone (11).png', 'saxophone (342).jpg', 'saxophone (31).jpg', 'saxophone (244).jpg', 'saxophone (88).jpg', 'saxophone (164).jpg', 'saxophone (10).jpg', 'saxophone (82).jpg', 'saxophone (241).jpg', 'saxophone (194).jpg', 'saxophone (285).jpg', 'saxophone (174).jpg', 'saxophone (21).png', 'saxophone (177).jpg', 'saxophone (279).jpg', 'saxophone (83).jpg', 'saxophone (29).png', 'saxophone (25).jpg', 'saxophone (324).jpg', 'saxophone (329).jpg', 'saxophone (207).jpg', 'saxophone (225).jpg', 'saxophone (75).jpg', 'saxophone (70).jpg', 'saxophone (321).jpg', 'saxophone (310).jpg', 'saxophone (29).jpg', 'saxophone (182).jpg', 'saxophone (284).jpg', 'saxophone (159).jpg', 'saxophone (20).png', 'saxophone (93).jpg', 'saxophone (170).jpg', 'saxophone (319).jpg', 'saxophone (281).jpg', 'saxophone (158).jpg', 'saxophone (77).jpg', 'saxophone (163).jpg', 'saxophone (248).jpg', 'saxophone (275).jpg', 'saxophone (314).jpg', 'saxophone (178).jpg', 'saxophone (90).jpg', 'saxophone (220).jpg', 'saxophone (13).png', 'saxophone (239).jpg']\n",
            "['tabla (245).jpg', 'tabla (252).jpg', 'tabla (178).jpg', 'tabla (185).jpg', 'tabla (173).jpg', 'tabla (122).jpg', 'tabla (113).jpg', 'tabla (321).jpg', 'tabla (28).jpg', 'tabla (55).jpg', 'tabla (60).jpg', 'tabla (131).jpg', 'tabla (49).jpg', 'tabla (38).jpg', 'tabla (23).jpg', 'tabla (177).jpg', 'tabla (161).jpg', 'tabla (304).jpg', 'tabla (69).jpg', 'tabla (129).jpg', 'tabla (137).jpg', 'tabla (53).jpg', 'tabla (99).jpg', 'tabla (282).jpg', 'tabla (238).jpg', 'tabla (217).jpg', 'tabla (95).jpg', 'tabla (98).jpg', 'tabla (14).jpg', 'tabla (307).jpg', 'tabla (156).jpg', 'tabla (74).jpg', 'tabla (322).jpg', 'tabla (306).jpg', 'tabla (153).jpg', 'tabla (125).jpg', 'tabla (100).jpg', 'tabla (259).jpg', 'tabla (110).jpg', 'tabla (48).jpg', 'tabla (169).jpg', 'tabla (59).jpg', 'tabla (176).jpg', 'tabla (134).jpg', 'tabla (142).jpg', 'tabla (299).jpg', 'tabla (30).jpg', 'tabla (253).jpg', 'tabla (130).jpg', 'tabla (29).jpg', 'tabla (213).jpg', 'tabla (111).jpg', 'tabla (50).jpg', 'tabla (11).jpg', 'tabla (9).jpg', 'tabla (109).jpg', 'tabla (26).jpg', 'tabla (244).jpg', 'tabla (24).jpg', 'tabla (203).jpg', 'tabla (239).jpg', 'tabla (86).jpg', 'tabla (311).jpg', 'tabla (25).jpg', 'tabla (310).jpg', 'tabla (248).jpg', 'tabla (21).jpg', 'tabla (165).jpg', 'tabla (198).jpg', 'tabla (281).jpg', 'tabla (2).png', 'tabla (264).jpg', 'tabla (149).jpg', 'tabla (58).jpg', 'tabla (249).jpg', 'tabla (112).jpg', 'tabla (139).jpg', 'tabla (200).jpg', 'tabla (212).jpg', 'tabla (136).jpg', 'tabla (15).jpg', 'tabla (202).jpg', 'tabla (126).jpg', 'tabla (320).jpg', 'tabla (105).jpg', 'tabla (1).png', 'tabla (123).jpg', 'tabla (308).jpg', 'tabla (268).jpg', 'tabla (66).jpg', 'tabla (76).jpg', 'tabla (329).jpg', 'tabla (174).jpg', 'tabla (189).jpg', 'tabla (167).jpg', 'tabla (242).jpg', 'tabla (236).jpg', 'tabla (291).jpg', 'tabla (328).jpg', 'tabla (214).jpg', 'tabla (145).jpg', 'tabla (63).jpg', 'tabla (187).jpg', 'tabla (179).jpg', 'tabla (183).jpg', 'tabla (276).jpg', 'tabla (150).jpg', 'tabla (141).jpg', 'tabla (228).jpg', 'tabla (292).jpg', 'tabla (128).jpg', 'tabla (92).jpg', 'tabla (3).jpg', 'tabla (73).jpg', 'tabla (154).jpg', 'tabla (13).jpg', 'tabla (91).jpg', 'tabla (313).jpg', 'tabla (94).jpg', 'tabla (305).jpg', 'tabla (84).jpg', 'tabla (35).jpg', 'tabla (164).jpg', 'tabla (103).jpg', 'tabla (256).jpg', 'tabla (237).jpg', 'tabla (152).jpg', 'tabla (88).jpg', 'tabla (90).jpg', 'tabla (194).jpg', 'tabla (104).jpg', 'tabla (6).jpg', 'tabla (87).jpg', 'tabla (155).jpg', 'tabla (272).jpg', 'tabla (124).jpg', 'tabla (135).jpg', 'tabla (288).jpg', 'tabla (114).jpg', 'tabla (42).jpg', 'tabla (254).jpg', 'tabla (218).jpg', 'tabla (1).jpg', 'tabla (19).jpg', 'tabla (44).jpg', 'tabla (7).jpg', 'tabla (72).jpg', 'tabla (57).jpg', 'tabla (182).jpg', 'tabla (333).jpg', 'tabla (208).jpg', 'tabla (77).jpg', 'tabla (39).jpg', 'tabla (250).jpg', 'tabla (278).jpg', 'tabla (296).jpg', 'tabla (197).jpg', 'tabla (196).jpg', 'tabla (12).jpg', 'tabla (255).jpg', 'tabla (120).jpg', 'tabla (172).jpg', 'tabla (97).jpg', 'tabla (309).jpg', 'tabla (108).jpg', 'tabla (80).jpg', 'tabla (274).jpg', 'tabla (85).jpg', 'tabla (144).jpg', 'tabla (280).jpg', 'tabla (293).jpg', 'tabla (233).jpg', 'tabla (220).jpg', 'tabla (295).jpg', 'tabla (330).jpg', 'tabla (68).jpg', 'tabla (206).jpg', 'tabla (45).jpg', 'tabla (190).jpg', 'tabla (257).jpg', 'tabla (327).jpg', 'tabla (312).jpg', 'tabla (151).jpg', 'tabla (283).jpg', 'tabla (171).jpg', 'tabla (279).jpg', 'tabla (40).jpg', 'tabla (316).jpg', 'tabla (102).jpg', 'tabla (51).jpg', 'tabla (5).jpg', 'tabla (315).jpg', 'tabla (219).jpg', 'tabla (148).jpg', 'tabla (302).jpg', 'tabla (119).jpg', 'tabla (170).jpg', 'tabla (191).jpg', 'tabla (216).jpg', 'tabla (140).jpg', 'tabla (162).jpg', 'tabla (211).jpg', 'tabla (301).jpg', 'tabla (262).jpg', 'tabla (64).jpg', 'tabla (224).jpg', 'tabla (186).jpg', 'tabla (326).jpg', 'tabla (265).jpg', 'tabla (207).jpg', 'tabla (163).jpg', 'tabla (332).jpg', 'tabla (34).jpg', 'tabla (258).jpg', 'tabla (118).jpg', 'tabla (261).jpg', 'tabla (277).jpg', 'tabla (18).jpg', 'tabla (116).jpg', 'tabla (81).jpg', 'tabla (275).jpg', 'tabla (286).jpg', 'tabla (193).jpg', 'tabla (251).jpg', 'tabla (284).jpg', 'tabla (317).jpg', 'tabla (269).jpg', 'tabla (79).jpg', 'tabla (294).jpg', 'tabla (54).jpg', 'tabla (234).jpg', 'tabla (17).jpg', 'tabla (70).jpg', 'tabla (43).jpg', 'tabla (273).jpg', 'tabla (267).jpg', 'tabla (78).jpg', 'tabla (285).jpg', 'tabla (226).jpg', 'tabla (27).jpg', 'tabla (132).jpg', 'tabla (41).jpg', 'tabla (314).jpg', 'tabla (93).jpg', 'tabla (303).jpg', 'tabla (175).jpg', 'tabla (16).jpg', 'tabla (204).jpg', 'tabla (188).jpg', 'tabla (324).jpg', 'tabla (223).jpg', 'tabla (127).jpg', 'tabla (20).jpg', 'tabla (260).jpg', 'tabla (65).jpg', 'tabla (221).jpg', 'tabla (297).jpg', 'tabla (83).jpg', 'tabla (115).jpg', 'tabla (67).jpg', 'tabla (298).jpg', 'tabla (210).jpg', 'tabla (209).jpg', 'tabla (52).jpg', 'tabla (231).jpg', 'tabla (75).jpg', 'tabla (160).jpg', 'tabla (82).jpg', 'tabla (143).jpg', 'tabla (166).jpg', 'tabla (287).jpg', 'tabla (222).jpg', 'tabla (157).jpg', 'tabla (331).jpg', 'tabla (300).jpg', 'tabla (232).jpg', 'tabla (61).jpg', 'tabla (8).jpg', 'tabla (243).jpg', 'tabla (192).jpg', 'tabla (10).jpg', 'tabla (33).jpg', 'tabla (138).jpg', 'tabla (323).jpg', 'tabla (325).jpg', 'tabla (46).jpg', 'tabla (181).jpg', 'tabla (289).jpg', 'tabla (241).jpg', 'tabla (290).jpg', 'tabla (107).jpg', 'tabla (205).jpg', 'tabla (37).jpg', 'tabla (133).jpg', 'tabla (56).jpg', 'tabla (230).jpg', 'tabla (271).jpg', 'tabla (229).jpg', 'tabla (334).jpg', 'tabla (4).jpg', 'tabla (36).jpg', 'tabla (22).jpg', 'tabla (62).jpg', 'tabla (199).jpg', 'tabla (227).jpg', 'tabla (318).jpg', 'tabla (32).jpg', 'tabla (121).jpg', 'tabla (168).jpg', 'tabla (31).jpg', 'tabla (106).jpg', 'tabla (117).jpg', 'tabla (247).jpg', 'tabla (184).jpg', 'tabla (96).jpg', 'tabla (158).jpg', 'tabla (266).jpg', 'tabla (146).jpg', 'tabla (71).jpg', 'tabla (246).jpg', 'tabla (263).jpg', 'tabla (215).jpg', 'tabla (240).jpg', 'tabla (235).jpg', 'tabla (319).jpg', 'tabla (225).jpg', 'tabla (270).jpg', 'tabla (159).jpg', 'tabla (89).jpg', 'tabla (101).jpg', 'tabla (147).jpg', 'tabla (180).jpg', 'tabla (201).jpg', 'tabla (195).jpg', 'tabla (47).jpg', 'tabla (2).jpg']\n",
            "['violen (89).jpg', 'violen (70).jpg', 'violen (259).jpg', 'violen (3).jpg', 'violen (37).jpg', 'violen (193).jpg', 'violen (190).jpg', 'violen (175).jpg', 'violen (142).jpg', 'violen (296).jpg', 'violen (221).jpg', 'violen (244).jpg', 'violen (143).jpg', 'violen (4).jpg', 'violen (186).jpg', 'violen (69).jpg', 'violen (150).jpg', 'violen (103).jpg', 'violen (7).png', 'violen (180).jpg', 'violen (135).jpg', 'violen (92).jpg', 'violen (85).jpg', 'violen (321).jpg', 'violen (45).jpg', 'violen (46).jpg', 'violen (270).jpg', 'violen (54).jpg', 'violen (13).jpg', 'violen (151).jpg', 'violen (247).jpg', 'violen (209).jpg', 'violen (88).jpg', 'violen (67).jpg', 'violen (24).jpg', 'violen (47).jpg', 'violen (213).jpg', 'violen (263).jpg', 'violen (33).jpg', 'violen (25).jpg', 'violen (32).jpg', 'violen (311).jpg', 'violen (145).jpg', 'violen (76).jpg', 'violen (3).png', 'violen (291).jpg', 'violen (286).jpg', 'violen (146).jpg', 'violen (93).jpg', 'violen (294).jpg', 'violen (230).jpg', 'violen (201).jpg', 'violen (236).jpg', 'violen (199).jpg', 'violen (147).jpg', 'violen (224).jpg', 'violen (56).jpg', 'violen (252).jpg', 'violen (167).jpg', 'violen (27).jpg', 'violen (149).jpg', 'violen (275).jpg', 'violen (192).jpg', 'violen (80).jpg', 'violen (265).jpg', 'violen (240).jpg', 'violen (117).jpg', 'violen (317).jpg', 'violen (283).jpg', 'violen (208).jpg', 'violen (144).jpg', 'violen (44).jpg', 'violen (223).jpg', 'violen (8).jpg', 'violen (84).jpg', 'violen (96).jpg', 'violen (91).jpg', 'violen (5).png', 'violen (314).jpg', 'violen (138).jpg', 'violen (320).jpg', 'violen (243).jpg', 'violen (16).jpg', 'violen (248).jpg', 'violen (19).jpg', 'violen (206).jpg', 'violen (52).jpg', 'violen (106).jpg', 'violen (310).jpg', 'violen (63).jpg', 'violen (22).jpg', 'violen (42).jpg', 'violen (163).jpg', 'violen (6).jpg', 'violen (207).jpg', 'violen (128).jpg', 'violen (181).jpg', 'violen (194).jpg', 'violen (125).jpg', 'violen (12).png', 'violen (255).jpg', 'violen (123).jpg', 'violen (87).jpg', 'violen (299).jpg', 'violen (78).jpg', 'violen (127).jpg', 'violen (288).jpg', 'violen (7).jpg', 'violen (326).jpg', 'violen (262).jpg', 'violen (198).jpg', 'violen (86).jpg', 'violen (152).jpg', 'violen (196).jpg', 'violen (298).jpg', 'violen (160).jpg', 'violen (79).jpg', 'violen (134).jpg', 'violen (26).jpg', 'violen (130).jpg', 'violen (306).jpg', 'violen (287).jpg', 'violen (219).jpg', 'violen (253).jpg', 'violen (39).jpg', 'violen (211).jpg', 'violen (307).jpg', 'violen (100).jpg', 'violen (71).jpg', 'violen (105).jpg', 'violen (169).jpg', 'violen (66).jpg', 'violen (31).jpg', 'violen (115).jpg', 'violen (315).jpg', 'violen (81).jpg', 'violen (256).jpg', 'violen (195).jpg', 'violen (233).jpg', 'violen (308).jpg', 'violen (139).jpg', 'violen (108).jpg', 'violen (94).jpg', 'violen (98).jpg', 'violen (148).jpg', 'violen (300).jpg', 'violen (282).jpg', 'violen (161).jpg', 'violen (266).jpg', 'violen (14).jpg', 'violen (158).jpg', 'violen (289).jpg', 'violen (184).jpg', 'violen (179).jpg', 'violen (90).jpg', 'violen (49).jpg', 'violen (140).jpg', 'violen (232).jpg', 'violen (234).jpg', 'violen (29).jpg', 'violen (210).jpg', 'violen (258).jpg', 'violen (281).jpg', 'violen (48).jpg', 'violen (226).jpg', 'violen (10).jpg', 'violen (2).png', 'violen (122).jpg', 'violen (162).jpg', 'violen (318).jpg', 'violen (231).jpg', 'violen (187).jpg', 'violen (182).jpg', 'violen (82).jpg', 'violen (58).jpg', 'violen (72).jpg', 'violen (165).jpg', 'violen (156).jpg', 'violen (214).jpg', 'violen (202).jpg', 'violen (217).jpg', 'violen (305).jpg', 'violen (177).jpg', 'violen (261).jpg', 'violen (60).jpg', 'violen (279).jpg', 'violen (316).jpg', 'violen (114).jpg', 'violen (292).jpg', 'violen (11).png', 'violen (137).jpg', 'violen (21).jpg', 'violen (278).jpg', 'violen (20).jpg', 'violen (191).jpg', 'violen (101).jpg', 'violen (9).jpg', 'violen (249).jpg', 'violen (109).jpg', 'violen (10).png', 'violen (284).jpg', 'violen (222).jpg', 'violen (40).jpg', 'violen (274).jpg', 'violen (319).jpg', 'violen (323).jpg', 'violen (83).jpg', 'violen (104).jpg', 'violen (271).jpg', 'violen (53).jpg', 'violen (141).jpg', 'violen (8).png', 'violen (285).jpg', 'violen (116).jpg', 'violen (4).png', 'violen (35).jpg', 'violen (77).jpg', 'violen (65).jpg', 'violen (228).jpg', 'violen (132).jpg', 'violen (251).jpg', 'violen (55).jpg', 'violen (12).jpg', 'violen (189).jpg', 'violen (64).jpg', 'violen (325).jpg', 'violen (235).jpg', 'violen (118).jpg', 'violen (41).jpg', 'violen (245).jpg', 'violen (172).jpg', 'violen (164).jpg', 'violen (99).jpg', 'violen (6).png', 'violen (220).jpg', 'violen (200).jpg', 'violen (205).jpg', 'violen (28).jpg', 'violen (297).jpg', 'violen (18).jpg', 'violen (204).jpg', 'violen (74).jpg', 'violen (155).jpg', 'violen (124).jpg', 'violen (238).jpg', 'violen (15).jpg', 'violen (229).jpg', 'violen (68).jpg', 'violen (97).jpg', 'violen (225).jpg', 'violen (324).jpg', 'violen (43).jpg', 'violen (273).jpg', 'violen (107).jpg', 'violen (264).jpg', 'violen (38).jpg', 'violen (241).jpg', 'violen (312).jpg', 'violen (153).jpg', 'violen (157).jpg', 'violen (73).jpg', 'violen (327).jpg', 'violen (218).jpg', 'violen (183).jpg', 'violen (23).jpg', 'violen (260).jpg', 'violen (197).jpg', 'violen (301).jpg', 'violen (215).jpg', 'violen (227).jpg', 'violen (159).jpg', 'violen (2).jpg', 'violen (174).jpg', 'violen (9).png', 'violen (277).jpg', 'violen (57).jpg', 'violen (309).jpg', 'violen (185).jpg', 'violen (257).jpg', 'violen (272).jpg', 'violen (328).jpg', 'violen (129).jpg', 'violen (121).jpg', 'violen (50).jpg', 'violen (188).jpg', 'violen (303).jpg', 'violen (166).jpg', 'violen (30).jpg', 'violen (113).jpg', 'violen (17).jpg', 'violen (75).jpg', 'violen (304).jpg', 'violen (136).jpg', 'violen (267).jpg', 'violen (254).jpg', 'violen (62).jpg', 'violen (250).jpg', 'violen (131).jpg', 'violen (5).jpg', 'violen (36).jpg', 'violen (13).png', 'violen (34).jpg', 'violen (173).jpg', 'violen (119).jpg', 'violen (269).jpg', 'violen (59).jpg', 'violen (95).jpg', 'violen (102).jpg', 'violen (203).jpg', 'violen (295).jpg', 'violen (302).jpg', 'violen (293).jpg', 'violen (239).jpg', 'violen (168).jpg', 'violen (112).jpg', 'violen (280).jpg', 'violen (313).jpg', 'violen (322).jpg', 'violen (1).png', 'violen (290).jpg', 'violen (268).jpg', 'violen (14).png', 'violen (111).jpg', 'violen (178).jpg', 'violen (246).jpg', 'violen (120).jpg', 'violen (276).jpg', 'violen (212).jpg', 'violen (11).jpg', 'violen (126).jpg', 'violen (110).jpg', 'violen (51).jpg', 'violen (237).jpg', 'violen (61).jpg', 'violen (242).jpg', 'violen (1).jpg', 'violen (170).jpg', 'violen (216).jpg', 'violen (171).jpg', 'violen (176).jpg', 'violen (133).jpg', 'violen (154).jpg']\n"
          ],
          "name": "stdout"
        }
      ]
    },
    {
      "cell_type": "code",
      "metadata": {
        "id": "4V21RNQfhM4x",
        "colab_type": "code",
        "colab": {
          "base_uri": "https://localhost:8080/",
          "height": 35
        },
        "outputId": "b0b34ccf-12c4-4ea6-a563-17ea243246da"
      },
      "source": [
        "files[4]"
      ],
      "execution_count": null,
      "outputs": [
        {
          "output_type": "execute_result",
          "data": {
            "application/vnd.google.colaboratory.intrinsic+json": {
              "type": "string"
            },
            "text/plain": [
              "'violen (37).jpg'"
            ]
          },
          "metadata": {
            "tags": []
          },
          "execution_count": 61
        }
      ]
    },
    {
      "cell_type": "code",
      "metadata": {
        "id": "49VBkyKTvZrt",
        "colab_type": "code",
        "colab": {}
      },
      "source": [
        "for i in enumerate(files):\n",
        "  tfms = zoom_crop(scale=(0.75,2), do_rand=True)\n",
        "  \n",
        "\n",
        "\n",
        "tfms = zoom_crop(scale=(0.75,2), do_rand=True)\n",
        "  total_plots=plt.subplots(1,4,figsize=(20,10))[1].flatten()\n",
        "  for i,ax in enumerate(total_plots):\n",
        "    open_image(files).apply_tfms(tfms[0], size = 244).show(ax=ax)\n",
        "    plt.savefig(\"image_data/\"+str(img_counter[0])+\".jpg\")\n",
        "    img_counter[0]+=1"
      ],
      "execution_count": null,
      "outputs": []
    },
    {
      "cell_type": "markdown",
      "metadata": {
        "id": "O06y7MqIcCEf",
        "colab_type": "text"
      },
      "source": [
        "#**Training Model**"
      ]
    },
    {
      "cell_type": "markdown",
      "metadata": {
        "id": "lTDNrebLdB6a",
        "colab_type": "text"
      },
      "source": [
        "**Calling Resnet50 into learn variable**"
      ]
    },
    {
      "cell_type": "code",
      "metadata": {
        "id": "Q1L3_Q-ac3PM",
        "colab_type": "code",
        "colab": {}
      },
      "source": [
        "learn = cnn_learner(data, models.resnet50, metrics=accuracy)"
      ],
      "execution_count": null,
      "outputs": []
    },
    {
      "cell_type": "markdown",
      "metadata": {
        "id": "uIoi47mEdOeI",
        "colab_type": "text"
      },
      "source": [
        "**Training the data**"
      ]
    },
    {
      "cell_type": "code",
      "metadata": {
        "id": "mKiF6srldKjs",
        "colab_type": "code",
        "colab": {}
      },
      "source": [
        "learn.fit_one_cycle(4)"
      ],
      "execution_count": null,
      "outputs": []
    },
    {
      "cell_type": "markdown",
      "metadata": {
        "id": "CRbWPX7Ik9Iz",
        "colab_type": "text"
      },
      "source": [
        "**Plotting The Learning Rate**"
      ]
    },
    {
      "cell_type": "code",
      "metadata": {
        "id": "L-biLEijlNx_",
        "colab_type": "code",
        "colab": {}
      },
      "source": [
        "learn.unfreeze()\n",
        "learn.lr_find()\n",
        "learn.recorder.plot()"
      ],
      "execution_count": null,
      "outputs": []
    },
    {
      "cell_type": "markdown",
      "metadata": {
        "id": "yMYBFgHglXx5",
        "colab_type": "text"
      },
      "source": [
        "**Mounting Drive**"
      ]
    },
    {
      "cell_type": "code",
      "metadata": {
        "id": "lCflqoNAlpsY",
        "colab_type": "code",
        "colab": {}
      },
      "source": [
        "from google.colab import drive\n",
        "drive.mount(\"/content/drive\")"
      ],
      "execution_count": null,
      "outputs": []
    },
    {
      "cell_type": "markdown",
      "metadata": {
        "id": "U0Q1PHialrJr",
        "colab_type": "text"
      },
      "source": [
        "**Making Directory in drive and saving path in `my_dir` variable**"
      ]
    },
    {
      "cell_type": "code",
      "metadata": {
        "id": "IeKfLrxzlxna",
        "colab_type": "code",
        "colab": {}
      },
      "source": [
        "os.makedirs(\"/content/drive/My Drive/Aayush_Project/digit_recognition\",exist_ok=True)\n",
        "my_dir=\"/content/drive/My Drive/Aayush_Project/digit_recognition\""
      ],
      "execution_count": null,
      "outputs": []
    },
    {
      "cell_type": "markdown",
      "metadata": {
        "id": "A7sycukhmJXC",
        "colab_type": "text"
      },
      "source": [
        "**Saving The state with name `Stage-1`**"
      ]
    },
    {
      "cell_type": "code",
      "metadata": {
        "id": "ef5yMbjkmRpf",
        "colab_type": "code",
        "colab": {}
      },
      "source": [
        "learn.save(my_dir+\"/Stage-1\")"
      ],
      "execution_count": null,
      "outputs": []
    },
    {
      "cell_type": "markdown",
      "metadata": {
        "id": "FiQws_UEmg86",
        "colab_type": "text"
      },
      "source": [
        "**Export stage-1 to drive**"
      ]
    },
    {
      "cell_type": "code",
      "metadata": {
        "id": "ngCK8gptmkGM",
        "colab_type": "code",
        "colab": {}
      },
      "source": [
        "learn.export(my_dir+\"/export.pkl\")"
      ],
      "execution_count": null,
      "outputs": []
    }
  ]
}